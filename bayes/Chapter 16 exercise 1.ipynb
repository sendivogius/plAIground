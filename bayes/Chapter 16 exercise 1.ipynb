{
 "cells": [
  {
   "cell_type": "code",
   "execution_count": 1,
   "metadata": {},
   "outputs": [],
   "source": [
    "import pystan\n",
    "import seaborn as sns\n",
    "import numpy as np\n",
    "import pandas as pd\n",
    "import matplotlib.pyplot as plt"
   ]
  },
  {
   "cell_type": "markdown",
   "metadata": {},
   "source": [
    "## 16.1"
   ]
  },
  {
   "cell_type": "markdown",
   "metadata": {},
   "source": [
    "### 16.1.1"
   ]
  },
  {
   "cell_type": "code",
   "execution_count": 2,
   "metadata": {},
   "outputs": [
    {
     "name": "stderr",
     "output_type": "stream",
     "text": [
      "INFO:pystan:COMPILING THE C++ CODE FOR MODEL anon_model_0b549de6fb9b1cea6f8761c25c0b0d08 NOW.\n"
     ]
    }
   ],
   "source": [
    "ocode = \"\"\"data {\n",
    "}\n",
    "\n",
    "parameters {\n",
    "    \n",
    "}\n",
    "\n",
    "model {\n",
    "    \n",
    "}\n",
    "\"\"\"\n",
    "sm = pystan.StanModel(model_code=ocode)"
   ]
  },
  {
   "cell_type": "markdown",
   "metadata": {},
   "source": [
    "### 16.1.2"
   ]
  },
  {
   "cell_type": "code",
   "execution_count": 3,
   "metadata": {},
   "outputs": [
    {
     "name": "stderr",
     "output_type": "stream",
     "text": [
      "INFO:pystan:COMPILING THE C++ CODE FOR MODEL anon_model_34250c604759d685d5891d5907a10de8 NOW.\n"
     ]
    }
   ],
   "source": [
    "ocode = \"\"\"data {\n",
    "    int N;\n",
    "    int X[N];\n",
    "}\n",
    "\n",
    "parameters {\n",
    "    real<lower=0> lambda;\n",
    "}\n",
    "\n",
    "model {\n",
    "}\n",
    "\"\"\"\n",
    "sm = pystan.StanModel(model_code=ocode)"
   ]
  },
  {
   "cell_type": "markdown",
   "metadata": {},
   "source": [
    "### 16.1.3"
   ]
  },
  {
   "cell_type": "code",
   "execution_count": 4,
   "metadata": {},
   "outputs": [
    {
     "name": "stderr",
     "output_type": "stream",
     "text": [
      "INFO:pystan:COMPILING THE C++ CODE FOR MODEL anon_model_a53ff4b870b79428fbcc3a9e9747054a NOW.\n"
     ]
    }
   ],
   "source": [
    "ocode = \"\"\"data {\n",
    "    int N;\n",
    "    int X[N];\n",
    "}\n",
    "\n",
    "parameters {\n",
    "    real<lower=0> lambda;\n",
    "}\n",
    "\n",
    "model {\n",
    "    X ~ poisson(lambda);\n",
    "    lambda ~ lognormal(2, 1);\n",
    "}\n",
    "\"\"\"\n",
    "sm = pystan.StanModel(model_code=ocode)"
   ]
  },
  {
   "cell_type": "markdown",
   "metadata": {},
   "source": [
    "### 16.1.4. "
   ]
  },
  {
   "cell_type": "markdown",
   "metadata": {},
   "source": [
    "Already done (import pystan)"
   ]
  },
  {
   "cell_type": "markdown",
   "metadata": {},
   "source": [
    "### 16.1.5"
   ]
  },
  {
   "cell_type": "code",
   "execution_count": 5,
   "metadata": {},
   "outputs": [
    {
     "data": {
      "text/html": [
       "<div>\n",
       "<style scoped>\n",
       "    .dataframe tbody tr th:only-of-type {\n",
       "        vertical-align: middle;\n",
       "    }\n",
       "\n",
       "    .dataframe tbody tr th {\n",
       "        vertical-align: top;\n",
       "    }\n",
       "\n",
       "    .dataframe thead th {\n",
       "        text-align: right;\n",
       "    }\n",
       "</style>\n",
       "<table border=\"1\" class=\"dataframe\">\n",
       "  <thead>\n",
       "    <tr style=\"text-align: right;\">\n",
       "      <th></th>\n",
       "      <th>time</th>\n",
       "      <th>discoveries</th>\n",
       "    </tr>\n",
       "  </thead>\n",
       "  <tbody>\n",
       "    <tr>\n",
       "      <th>0</th>\n",
       "      <td>1860</td>\n",
       "      <td>5</td>\n",
       "    </tr>\n",
       "    <tr>\n",
       "      <th>1</th>\n",
       "      <td>1861</td>\n",
       "      <td>3</td>\n",
       "    </tr>\n",
       "    <tr>\n",
       "      <th>2</th>\n",
       "      <td>1862</td>\n",
       "      <td>0</td>\n",
       "    </tr>\n",
       "    <tr>\n",
       "      <th>3</th>\n",
       "      <td>1863</td>\n",
       "      <td>2</td>\n",
       "    </tr>\n",
       "    <tr>\n",
       "      <th>4</th>\n",
       "      <td>1864</td>\n",
       "      <td>0</td>\n",
       "    </tr>\n",
       "    <tr>\n",
       "      <th>...</th>\n",
       "      <td>...</td>\n",
       "      <td>...</td>\n",
       "    </tr>\n",
       "    <tr>\n",
       "      <th>95</th>\n",
       "      <td>1955</td>\n",
       "      <td>1</td>\n",
       "    </tr>\n",
       "    <tr>\n",
       "      <th>96</th>\n",
       "      <td>1956</td>\n",
       "      <td>0</td>\n",
       "    </tr>\n",
       "    <tr>\n",
       "      <th>97</th>\n",
       "      <td>1957</td>\n",
       "      <td>0</td>\n",
       "    </tr>\n",
       "    <tr>\n",
       "      <th>98</th>\n",
       "      <td>1958</td>\n",
       "      <td>2</td>\n",
       "    </tr>\n",
       "    <tr>\n",
       "      <th>99</th>\n",
       "      <td>1959</td>\n",
       "      <td>0</td>\n",
       "    </tr>\n",
       "  </tbody>\n",
       "</table>\n",
       "<p>100 rows × 2 columns</p>\n",
       "</div>"
      ],
      "text/plain": [
       "    time  discoveries\n",
       "0   1860            5\n",
       "1   1861            3\n",
       "2   1862            0\n",
       "3   1863            2\n",
       "4   1864            0\n",
       "..   ...          ...\n",
       "95  1955            1\n",
       "96  1956            0\n",
       "97  1957            0\n",
       "98  1958            2\n",
       "99  1959            0\n",
       "\n",
       "[100 rows x 2 columns]"
      ]
     },
     "execution_count": 5,
     "metadata": {},
     "output_type": "execute_result"
    }
   ],
   "source": [
    "df = pd.read_csv('data/evaluation_discoveries.csv')\n",
    "df"
   ]
  },
  {
   "cell_type": "code",
   "execution_count": 6,
   "metadata": {},
   "outputs": [],
   "source": [
    "data = {'N': df.shape[0], 'X':df.discoveries.values}"
   ]
  },
  {
   "cell_type": "markdown",
   "metadata": {},
   "source": [
    "### 16.1.6"
   ]
  },
  {
   "cell_type": "code",
   "execution_count": 7,
   "metadata": {},
   "outputs": [],
   "source": [
    "fit = sm.sampling(data=data, iter=1000, chains=4, seed=1)"
   ]
  },
  {
   "cell_type": "markdown",
   "metadata": {},
   "source": [
    "### 16.1.7"
   ]
  },
  {
   "cell_type": "code",
   "execution_count": 8,
   "metadata": {},
   "outputs": [
    {
     "data": {
      "text/plain": [
       "Inference for Stan model: anon_model_a53ff4b870b79428fbcc3a9e9747054a.\n",
       "4 chains, each with iter=1000; warmup=500; thin=1; \n",
       "post-warmup draws per chain=500, total post-warmup draws=2000.\n",
       "\n",
       "         mean se_mean     sd   2.5%    25%    50%    75%  97.5%  n_eff   Rhat\n",
       "lambda   3.09  6.2e-3   0.18   2.73   2.97   3.09   3.21   3.44    812    1.0\n",
       "lp__    39.85    0.02   0.73   37.6   39.7  40.13  40.31  40.36   1114    1.0\n",
       "\n",
       "Samples were drawn using NUTS at Tue Dec 22 17:53:25 2020.\n",
       "For each parameter, n_eff is a crude measure of effective sample size,\n",
       "and Rhat is the potential scale reduction factor on split chains (at \n",
       "convergence, Rhat=1)."
      ]
     },
     "execution_count": 8,
     "metadata": {},
     "output_type": "execute_result"
    }
   ],
   "source": [
    "fit"
   ]
  },
  {
   "cell_type": "markdown",
   "metadata": {},
   "source": [
    "### 16.1.8"
   ]
  },
  {
   "cell_type": "markdown",
   "metadata": {},
   "source": [
    "`n_eff` is in range 700-900"
   ]
  },
  {
   "cell_type": "markdown",
   "metadata": {},
   "source": [
    "### 16.1.9"
   ]
  },
  {
   "cell_type": "code",
   "execution_count": 9,
   "metadata": {},
   "outputs": [
    {
     "data": {
      "text/plain": [
       "array([2.86676595, 3.31281738])"
      ]
     },
     "execution_count": 9,
     "metadata": {},
     "output_type": "execute_result"
    }
   ],
   "source": [
    "np.quantile(fit.extract()['lambda'], [.1, .9])"
   ]
  },
  {
   "cell_type": "markdown",
   "metadata": {},
   "source": [
    "### 16.1.10"
   ]
  },
  {
   "cell_type": "code",
   "execution_count": 10,
   "metadata": {},
   "outputs": [
    {
     "data": {
      "image/png": "[encoded data removed]",
      "text/plain": [
       "<Figure size 432x288 with 1 Axes>"
      ]
     },
     "metadata": {
      "needs_background": "light"
     },
     "output_type": "display_data"
    }
   ],
   "source": [
    "plt.hist(fit.extract()['lambda'], bins=100);"
   ]
  },
  {
   "cell_type": "markdown",
   "metadata": {},
   "source": [
    "### 16.1.11"
   ]
  },
  {
   "cell_type": "code",
   "execution_count": 11,
   "metadata": {},
   "outputs": [
    {
     "data": {
      "text/plain": [
       "<AxesSubplot:>"
      ]
     },
     "execution_count": 11,
     "metadata": {},
     "output_type": "execute_result"
    },
    {
     "data": {
      "image/png": "[encoded data removed]",
      "text/plain": [
       "<Figure size 432x288 with 1 Axes>"
      ]
     },
     "metadata": {
      "needs_background": "light"
     },
     "output_type": "display_data"
    }
   ],
   "source": [
    "df.discoveries.plot()"
   ]
  },
  {
   "cell_type": "code",
   "execution_count": 12,
   "metadata": {},
   "outputs": [
    {
     "data": {
      "text/plain": [
       "<AxesSubplot:>"
      ]
     },
     "execution_count": 12,
     "metadata": {},
     "output_type": "execute_result"
    },
    {
     "data": {
      "image/png": "[encoded data removed]",
      "text/plain": [
       "<Figure size 432x288 with 1 Axes>"
      ]
     },
     "metadata": {
      "needs_background": "light"
     },
     "output_type": "display_data"
    }
   ],
   "source": [
    "df.discoveries.hist()"
   ]
  },
  {
   "cell_type": "code",
   "execution_count": 13,
   "metadata": {},
   "outputs": [
    {
     "data": {
      "text/plain": [
       "(3.1, 5.08080808080808)"
      ]
     },
     "execution_count": 13,
     "metadata": {},
     "output_type": "execute_result"
    }
   ],
   "source": [
    "df.discoveries.mean(), df.discoveries.var()"
   ]
  },
  {
   "cell_type": "markdown",
   "metadata": {},
   "source": [
    "### 6.1.12"
   ]
  },
  {
   "cell_type": "code",
   "execution_count": 14,
   "metadata": {},
   "outputs": [
    {
     "name": "stderr",
     "output_type": "stream",
     "text": [
      "INFO:pystan:COMPILING THE C++ CODE FOR MODEL anon_model_0bdbf91072ecb42e656d5e9e8cb8f447 NOW.\n"
     ]
    }
   ],
   "source": [
    "ocode = \"\"\"data {\n",
    "    int N;\n",
    "    int X[N];\n",
    "}\n",
    "\n",
    "parameters {\n",
    "    real<lower=0> lambda;\n",
    "}\n",
    "\n",
    "model {\n",
    "    X ~ poisson(lambda);\n",
    "    lambda ~ lognormal(2, 1);\n",
    "}\n",
    "\n",
    "generated quantities {\n",
    "    int<lower = 0> X_gen[N];\n",
    "    for (i in 1:N) {\n",
    "        X_gen[i] = poisson_rng(lambda);\n",
    "    }\n",
    "}\n",
    "\"\"\"\n",
    "sm = pystan.StanModel(model_code=ocode)"
   ]
  },
  {
   "cell_type": "code",
   "execution_count": 15,
   "metadata": {},
   "outputs": [],
   "source": [
    "fit = sm.sampling(data=data, iter=1000, chains=4, seed=1)"
   ]
  },
  {
   "cell_type": "code",
   "execution_count": 16,
   "metadata": {},
   "outputs": [
    {
     "data": {
      "image/png": "[encoded data removed]",
      "text/plain": [
       "<Figure size 432x288 with 1 Axes>"
      ]
     },
     "metadata": {
      "needs_background": "light"
     },
     "output_type": "display_data"
    }
   ],
   "source": [
    "plt.plot(fit.extract()['X_gen']);"
   ]
  },
  {
   "cell_type": "code",
   "execution_count": 17,
   "metadata": {},
   "outputs": [],
   "source": [
    "posterior_checks = fit.extract()['X_gen']"
   ]
  },
  {
   "cell_type": "code",
   "execution_count": 18,
   "metadata": {},
   "outputs": [
    {
     "data": {
      "text/plain": [
       "1.15"
      ]
     },
     "execution_count": 18,
     "metadata": {},
     "output_type": "execute_result"
    }
   ],
   "source": [
    "(posterior_checks >= df.discoveries.max()).any(axis=1).mean()*100"
   ]
  },
  {
   "cell_type": "markdown",
   "metadata": {},
   "source": [
    "### 16.1.13"
   ]
  },
  {
   "cell_type": "code",
   "execution_count": 19,
   "metadata": {},
   "outputs": [
    {
     "name": "stderr",
     "output_type": "stream",
     "text": [
      "INFO:pystan:COMPILING THE C++ CODE FOR MODEL anon_model_b6af453f5a74534ae8e908b624ef2891 NOW.\n"
     ]
    }
   ],
   "source": [
    "ocode = \"\"\"data {\n",
    "    int N;\n",
    "    int X[N];\n",
    "}\n",
    "\n",
    "parameters {\n",
    "    real<lower=0> mi;\n",
    "    real<lower=0> kappa;\n",
    "}\n",
    "\n",
    "model {\n",
    "    X ~ neg_binomial_2(mi, kappa);\n",
    "    mi ~ lognormal(2, 1);\n",
    "    kappa ~ lognormal(2, 1);\n",
    "}\n",
    "\n",
    "generated quantities {\n",
    "    int<lower = 0> X_gen[N];\n",
    "    for (i in 1:N) {\n",
    "        X_gen[i] = neg_binomial_2_rng(mi, kappa);\n",
    "    }\n",
    "}\n",
    "\"\"\"\n",
    "sm = pystan.StanModel(model_code=ocode)"
   ]
  },
  {
   "cell_type": "code",
   "execution_count": 20,
   "metadata": {},
   "outputs": [],
   "source": [
    "fit = sm.sampling(data=data, iter=1000, chains=4, seed=1)"
   ]
  },
  {
   "cell_type": "code",
   "execution_count": 21,
   "metadata": {},
   "outputs": [
    {
     "name": "stderr",
     "output_type": "stream",
     "text": [
      "WARNING:pystan:Truncated summary with the 'fit.__repr__' method. For the full summary use 'print(fit)'\n"
     ]
    },
    {
     "data": {
      "text/plain": [
       "\n",
       "Warning: Shown data is truncated to 100 parameters\n",
       "For the full summary use 'print(fit)'\n",
       "\n",
       "Inference for Stan model: anon_model_b6af453f5a74534ae8e908b624ef2891.\n",
       "4 chains, each with iter=1000; warmup=500; thin=1; \n",
       "post-warmup draws per chain=500, total post-warmup draws=2000.\n",
       "\n",
       "            mean se_mean     sd   2.5%    25%    50%    75%  97.5%  n_eff   Rhat\n",
       "mi          3.12  6.0e-3   0.22   2.72   2.96   3.11   3.27   3.58   1348    1.0\n",
       "kappa       6.95    0.13   3.74   3.03   4.71   6.07   8.05  16.88    787   1.01\n",
       "X_gen[1]    3.18    0.05   2.18    0.0    2.0    3.0    4.0    8.0   1891    1.0\n",
       "X_gen[2]     3.1    0.05   2.18    0.0    2.0    3.0    4.0    8.0   1900    1.0\n",
       "X_gen[3]     3.1    0.05    2.2    0.0    2.0    3.0    4.0    8.0   2016    1.0\n",
       "X_gen[4]    3.15    0.05   2.24    0.0    2.0    3.0    4.0    8.0   1977    1.0\n",
       "X_gen[5]     3.1    0.05    2.2    0.0    1.0    3.0    4.0    8.0   1884    1.0\n",
       "X_gen[6]    3.14    0.05   2.16    0.0    1.0    3.0    4.0    8.0   2067    1.0\n",
       "X_gen[7]    3.08    0.05   2.15    0.0    2.0    3.0    4.0    8.0   1923    1.0\n",
       "X_gen[8]     3.2    0.05   2.25    0.0    2.0    3.0    4.0    8.6   1803    1.0\n",
       "X_gen[9]    3.12    0.05   2.24    0.0    1.0    3.0    4.0    8.0   1937    1.0\n",
       "X_gen[10]   3.23    0.05   2.25    0.0    2.0    3.0    4.0    9.0   1971    1.0\n",
       "X_gen[11]   3.04    0.05   2.22    0.0    1.0    3.0    4.0    9.0   2163    1.0\n",
       "X_gen[12]   3.04    0.05   2.19    0.0    1.0    3.0    4.0    8.0   1681    1.0\n",
       "X_gen[13]   3.06    0.05   2.15    0.0    1.0    3.0    4.0    8.0   2079    1.0\n",
       "X_gen[14]   3.09    0.05   2.14    0.0    2.0    3.0    4.0    8.0   1824    1.0\n",
       "X_gen[15]   3.06    0.05   2.14    0.0    1.0    3.0    4.0    8.0   2199    1.0\n",
       "X_gen[16]   3.13    0.05   2.23    0.0    2.0    3.0    4.0    8.0   2063    1.0\n",
       "X_gen[17]   3.09    0.05   2.14    0.0    1.0    3.0    4.0    8.0   1906    1.0\n",
       "X_gen[18]   3.19    0.05   2.24    0.0    2.0    3.0    4.0    8.0   1762    1.0\n",
       "X_gen[19]   3.13    0.05   2.18    0.0    2.0    3.0    4.0    8.0   1824    1.0\n",
       "X_gen[20]   3.14    0.05   2.21    0.0    2.0    3.0    4.0    8.0   1991    1.0\n",
       "X_gen[21]   3.08    0.05   2.15    0.0    1.0    3.0    4.0    8.0   1935    1.0\n",
       "X_gen[22]   3.08    0.05   2.17    0.0    1.0    3.0    4.0    8.0   2025    1.0\n",
       "X_gen[23]   3.18    0.05    2.2    0.0    2.0    3.0    4.0    8.0   1820    1.0\n",
       "X_gen[24]   3.06    0.05   2.18    0.0    2.0    3.0    4.0    8.0   1971    1.0\n",
       "X_gen[25]    3.2    0.05   2.25    0.0    2.0    3.0    4.0    8.6   2049    1.0\n",
       "X_gen[26]   3.15    0.05   2.22    0.0    2.0    3.0    4.0    8.6   1982    1.0\n",
       "X_gen[27]   3.04    0.05   2.15    0.0    1.0    3.0    4.0    8.0   1951    1.0\n",
       "X_gen[28]   3.17    0.05   2.23    0.0    2.0    3.0    4.0    8.0   2119    1.0\n",
       "X_gen[29]    3.1    0.05    2.2    0.0    1.0    3.0    4.0    8.0   1918    1.0\n",
       "X_gen[30]   3.18    0.05   2.26    0.0    2.0    3.0    4.0    9.0   1902    1.0\n",
       "X_gen[31]   3.08    0.05   2.15    0.0    1.0    3.0    4.0    8.0   2004    1.0\n",
       "X_gen[32]   3.01    0.05   2.13    0.0    1.0    3.0    4.0    8.0   2067    1.0\n",
       "X_gen[33]    3.1    0.05   2.23    0.0    1.0    3.0    4.0    8.0   2108    1.0\n",
       "X_gen[34]   3.16    0.05   2.17    0.0    2.0    3.0    4.0    8.0   1962    1.0\n",
       "X_gen[35]   3.15    0.05    2.2    0.0    1.0    3.0    4.0    8.0   2112    1.0\n",
       "X_gen[36]   3.11    0.05   2.21    0.0    1.0    3.0    4.0    8.0   2014    1.0\n",
       "X_gen[37]    3.1    0.05   2.23    0.0    1.0    3.0    4.0    8.0   2043    1.0\n",
       "X_gen[38]   3.05    0.05   2.14    0.0    1.0    3.0    4.0    8.0   2042    1.0\n",
       "X_gen[39]   3.12    0.05   2.18    0.0    1.0    3.0    4.0    8.0   1894    1.0\n",
       "X_gen[40]   3.03    0.05   2.16    0.0    1.0    3.0    4.0    8.0   1973    1.0\n",
       "X_gen[41]   3.15    0.05   2.22    0.0    2.0    3.0    4.0    8.0   1823    1.0\n",
       "X_gen[42]    3.2    0.05   2.22    0.0    2.0    3.0    4.0    8.6   2150    1.0\n",
       "X_gen[43]   3.16    0.05   2.26    0.0    2.0    3.0    4.0    9.0   2156    1.0\n",
       "X_gen[44]   3.05    0.05    2.2    0.0    1.0    3.0    4.0    8.0   2010    1.0\n",
       "X_gen[45]    3.2    0.05   2.23    0.0    2.0    3.0    4.0    8.0   2132    1.0\n",
       "X_gen[46]   3.23    0.05   2.32    0.0    2.0    3.0    4.0    9.0   1984    1.0\n",
       "X_gen[47]   3.11    0.05   2.21    0.0    1.0    3.0    4.0    8.0   1983    1.0\n",
       "X_gen[48]    3.1    0.05   2.19    0.0    1.0    3.0    4.0    8.0   1930    1.0\n",
       "X_gen[49]   3.09    0.05   2.23    0.0    1.0    3.0    4.0    8.0   1865    1.0\n",
       "X_gen[50]   3.12    0.05    2.2    0.0    2.0    3.0    4.0    8.0   1944    1.0\n",
       "X_gen[51]   3.13    0.05    2.2    0.0   1.45    3.0    4.0    8.0   2055    1.0\n",
       "X_gen[52]   3.16    0.05   2.23    0.0    2.0    3.0    4.0    8.6   1906    1.0\n",
       "X_gen[53]   3.09    0.05   2.18    0.0    1.0    3.0    4.0    8.0   1985    1.0\n",
       "X_gen[54]   3.16    0.05    2.2    0.0    2.0    3.0    4.0    8.0   1915    1.0\n",
       "X_gen[55]   3.12    0.05   2.23    0.0    2.0    3.0    4.0    8.6   2065    1.0\n",
       "X_gen[56]   3.18    0.05   2.18    0.0    2.0    3.0    4.0    8.0   2023    1.0\n",
       "X_gen[57]   3.18    0.05   2.24    0.0   1.45    3.0    4.0    8.0   1758    1.0\n",
       "X_gen[58]   3.12    0.05   2.13    0.0    2.0    3.0    4.0    8.0   2127    1.0\n",
       "X_gen[59]   3.18    0.05   2.22    0.0    2.0    3.0    4.0    8.0   1967    1.0\n",
       "X_gen[60]   3.14    0.05   2.23    0.0    1.0    3.0    4.0    9.0   1964    1.0\n",
       "X_gen[61]   3.08    0.05   2.21    0.0    1.0    3.0    4.0    8.0   1927    1.0\n",
       "X_gen[62]    3.1    0.05   2.22    0.0    1.0    3.0    4.0    8.0   1765    1.0\n",
       "X_gen[63]    3.2    0.05    2.2    0.0    2.0    3.0    5.0    8.0   2127    1.0\n",
       "X_gen[64]   3.15    0.05   2.25    0.0    1.0    3.0    4.0    8.0   1999    1.0\n",
       "X_gen[65]   3.16    0.05   2.22    0.0    2.0    3.0    4.0    8.6   2062    1.0\n",
       "X_gen[66]   3.16    0.05   2.24    0.0    2.0    3.0    4.0    9.0   1991    1.0\n",
       "X_gen[67]   3.19    0.05   2.26    0.0    2.0    3.0    4.0    9.0   2022    1.0\n",
       "X_gen[68]   3.07    0.05   2.24    0.0    1.0    3.0    4.0    8.0   1759    1.0\n",
       "X_gen[69]   3.08    0.05   2.19    0.0    1.0    3.0    4.0    8.0   1970    1.0\n",
       "X_gen[70]   3.11    0.05   2.22    0.0    1.0    3.0    4.0    8.0   1763    1.0\n",
       "X_gen[71]   3.12    0.05   2.16    0.0    2.0    3.0    4.0    8.0   1895    1.0\n",
       "X_gen[72]   3.06    0.05    2.2    0.0    1.0    3.0    4.0    8.0   1850    1.0\n",
       "X_gen[73]    3.1    0.05   2.25    0.0    1.0    3.0    4.0    8.0   1713    1.0\n",
       "X_gen[74]   3.22    0.05   2.24    0.0    2.0    3.0    4.0    8.0   2060    1.0\n",
       "X_gen[75]   3.07    0.05   2.19    0.0    1.0    3.0    4.0    8.0   2118    1.0\n",
       "X_gen[76]   3.08    0.05   2.21    0.0    1.0    3.0    4.0    8.0   2047    1.0\n",
       "X_gen[77]   3.17    0.05   2.24    0.0    2.0    3.0    4.0    8.0   2022    1.0\n",
       "X_gen[78]   3.06    0.05   2.22    0.0    1.0    3.0    4.0    8.0   1878    1.0\n",
       "X_gen[79]   3.05    0.05   2.24    0.0    1.0    3.0    4.0    8.0   1932    1.0\n",
       "X_gen[80]   3.15    0.05   2.27    0.0    2.0    3.0    4.0    8.0   1969    1.0\n",
       "X_gen[81]    3.1    0.05   2.26    0.0    1.0    3.0    4.0    9.0   1944    1.0\n",
       "X_gen[82]   3.08    0.05   2.23    0.0    1.0    3.0    4.0    9.0   1975    1.0\n",
       "X_gen[83]   3.18    0.05   2.19    0.0    2.0    3.0    4.0    8.0   1965    1.0\n",
       "X_gen[84]   3.15    0.05   2.24    0.0    1.0    3.0    4.0    8.0   1942    1.0\n",
       "X_gen[85]   3.09    0.05   2.18    0.0    2.0    3.0    4.0    8.0   1662    1.0\n",
       "X_gen[86]   3.12    0.05   2.21    0.0    1.0    3.0    4.0    9.0   2005    1.0\n",
       "X_gen[87]   3.05    0.05   2.17    0.0    1.0    3.0    4.0    8.0   1932    1.0\n",
       "X_gen[88]   3.18    0.05   2.25    0.0    2.0    3.0    4.0    8.0   1986    1.0\n",
       "X_gen[89]   3.08    0.05   2.19    0.0    1.0    3.0    4.0    8.0   1949    1.0\n",
       "X_gen[90]   3.11    0.05   2.15    0.0    2.0    3.0    4.0    8.0   2029    1.0\n",
       "X_gen[91]   3.02    0.05   2.12    0.0    1.0    3.0    4.0    8.0   1629    1.0\n",
       "X_gen[92]   3.15    0.05    2.3    0.0    1.0    3.0    4.0    9.0   2062    1.0\n",
       "X_gen[93]   3.09    0.05   2.16    0.0    1.0    3.0    4.0    8.0   2065    1.0\n",
       "X_gen[94]   3.07    0.05   2.18    0.0    1.0    3.0    4.0    8.0   1901    1.0\n",
       "X_gen[95]   3.16    0.05   2.21    0.0    2.0    3.0    4.0    9.0   1969    1.0\n",
       "X_gen[96]   3.05    0.05    2.2    0.0    1.0    3.0    4.0    8.0   1981    1.0\n",
       "X_gen[97]   3.14    0.05    2.2    0.0    1.0    3.0    4.0    8.0   2089    1.0\n",
       "lp__       45.33    0.03   1.01  42.71  44.91  45.63  46.06  46.35    925    1.0\n",
       "\n",
       "Samples were drawn using NUTS at Tue Dec 22 17:54:21 2020.\n",
       "For each parameter, n_eff is a crude measure of effective sample size,\n",
       "and Rhat is the potential scale reduction factor on split chains (at \n",
       "convergence, Rhat=1)."
      ]
     },
     "execution_count": 21,
     "metadata": {},
     "output_type": "execute_result"
    }
   ],
   "source": [
    "fit"
   ]
  },
  {
   "cell_type": "markdown",
   "metadata": {},
   "source": [
    "### 16.1.14"
   ]
  },
  {
   "cell_type": "code",
   "execution_count": 22,
   "metadata": {},
   "outputs": [
    {
     "data": {
      "image/png": "[encoded data removed]",
      "text/plain": [
       "<Figure size 432x288 with 1 Axes>"
      ]
     },
     "metadata": {
      "needs_background": "light"
     },
     "output_type": "display_data"
    }
   ],
   "source": [
    "plt.plot(fit.extract()['X_gen']);"
   ]
  },
  {
   "cell_type": "code",
   "execution_count": 23,
   "metadata": {},
   "outputs": [],
   "source": [
    "posterior_checks = fit.extract()['X_gen']"
   ]
  },
  {
   "cell_type": "code",
   "execution_count": 24,
   "metadata": {},
   "outputs": [
    {
     "data": {
      "text/plain": [
       "24.45"
      ]
     },
     "execution_count": 24,
     "metadata": {},
     "output_type": "execute_result"
    }
   ],
   "source": [
    "(posterior_checks >= df.discoveries.max()).any(axis=1).mean()*100"
   ]
  },
  {
   "cell_type": "markdown",
   "metadata": {},
   "source": [
    "### 16.1.15"
   ]
  },
  {
   "cell_type": "code",
   "execution_count": 25,
   "metadata": {},
   "outputs": [
    {
     "data": {
      "text/plain": [
       "array([2.83885761, 3.40567936])"
      ]
     },
     "execution_count": 25,
     "metadata": {},
     "output_type": "execute_result"
    }
   ],
   "source": [
    "np.quantile(fit.extract()['mi'], [.1, .9])"
   ]
  },
  {
   "cell_type": "markdown",
   "metadata": {},
   "source": [
    "### 16.1.16"
   ]
  },
  {
   "cell_type": "code",
   "execution_count": 26,
   "metadata": {},
   "outputs": [],
   "source": [
    "residuals = df.discoveries - posterior_checks[0,:].shape"
   ]
  },
  {
   "cell_type": "code",
   "execution_count": 27,
   "metadata": {},
   "outputs": [
    {
     "data": {
      "text/plain": [
       "[<matplotlib.lines.Line2D at 0x2c2f65105e0>]"
      ]
     },
     "execution_count": 27,
     "metadata": {},
     "output_type": "execute_result"
    },
    {
     "data": {
      "image/png": "[encoded data removed]",
      "text/plain": [
       "<Figure size 432x288 with 1 Axes>"
      ]
     },
     "metadata": {
      "needs_background": "light"
     },
     "output_type": "display_data"
    }
   ],
   "source": [
    "plt.plot(residuals)"
   ]
  }
 ],
 "metadata": {
  "kernelspec": {
   "display_name": "bayes",
   "language": "python",
   "name": "bayes"
  },
  "language_info": {
   "codemirror_mode": {
    "name": "ipython",
    "version": 3
   },
   "file_extension": ".py",
   "mimetype": "text/x-python",
   "name": "python",
   "nbconvert_exporter": "python",
   "pygments_lexer": "ipython3",
   "version": "3.8.5"
  }
 },
 "nbformat": 4,
 "nbformat_minor": 4
}
