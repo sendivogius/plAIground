{
 "cells": [
  {
   "cell_type": "code",
   "execution_count": null,
   "metadata": {},
   "outputs": [],
   "source": [
    "import scipy.stats as stats\n",
    "import seaborn as sns\n",
    "import matplotlib.pyplot as plt\n",
    "import numpy as np\n",
    "import pandas as pd\n",
    "from tqdm import tqdm"
   ]
  },
  {
   "cell_type": "markdown",
   "metadata": {},
   "source": [
    "### 15.1.1 Generate 100 random samples"
   ]
  },
  {
   "cell_type": "code",
   "execution_count": null,
   "metadata": {},
   "outputs": [],
   "source": [
    "def gen_random(start=None, n=100):\n",
    "    means = [20, 5]\n",
    "    covs = [[2, 0.8], [0.8, 0.5]]\n",
    "    return pd.DataFrame(stats.multivariate_normal.rvs(means, covs, size=n), columns=['ut', 'uc']), {}"
   ]
  },
  {
   "cell_type": "code",
   "execution_count": null,
   "metadata": {},
   "outputs": [],
   "source": [
    "rand_data, rand_stats = gen_random()"
   ]
  },
  {
   "cell_type": "code",
   "execution_count": null,
   "metadata": {},
   "outputs": [],
   "source": [
    "g = sns.jointplot(data=rand_data, x='ut', y='uc') \n",
    "g.ax_marg_x.axvline(rand_data.ut.mean(), color='r', linestyle='--')\n",
    "g.ax_marg_y.axhline(rand_data.uc.mean(), color='r', linestyle='--')"
   ]
  },
  {
   "cell_type": "code",
   "execution_count": null,
   "metadata": {
    "scrolled": true
   },
   "outputs": [],
   "source": [
    "plt.plot(rand_data.ut, rand_data.uc, '.-')"
   ]
  },
  {
   "cell_type": "code",
   "execution_count": null,
   "metadata": {
    "scrolled": false
   },
   "outputs": [],
   "source": [
    "f, ax = plt.subplots(1, 1, figsize=(10, 6))\n",
    "sns.histplot(rand_data, bins=50, stat='count')\n",
    "ax.axvline(rand_data.ut.mean(), color='r', linestyle='--')\n",
    "ax.axvline(rand_data.uc.mean(), color='r', linestyle='--')"
   ]
  },
  {
   "cell_type": "markdown",
   "metadata": {},
   "source": [
    "### 15.1.2 Code up a Random Walk Metropolis sampler"
   ]
  },
  {
   "cell_type": "code",
   "execution_count": null,
   "metadata": {},
   "outputs": [],
   "source": [
    "def propose_step(current):\n",
    "    return stats.multivariate_normal.rvs(current)"
   ]
  },
  {
   "cell_type": "code",
   "execution_count": null,
   "metadata": {},
   "outputs": [],
   "source": [
    "def calc_ratio(current, proposed):\n",
    "    p_current = stats.multivariate_normal.pdf(current, mean=[20, 5], cov=[[2, 0.8], [0.8, 0.5]])\n",
    "    p_proposed = stats.multivariate_normal.pdf(proposed, mean=[20, 5], cov=[[2, 0.8], [0.8, 0.5]])\n",
    "    return p_proposed/p_current"
   ]
  },
  {
   "cell_type": "code",
   "execution_count": null,
   "metadata": {},
   "outputs": [],
   "source": [
    "def get_next_value(current):\n",
    "    proposed = propose_step(current)\n",
    "    ratio = calc_ratio(current, proposed)\n",
    "    u = stats.uniform.rvs()\n",
    "    if ratio > u:\n",
    "        return proposed, 1\n",
    "    return current, 0"
   ]
  },
  {
   "cell_type": "code",
   "execution_count": null,
   "metadata": {},
   "outputs": [],
   "source": [
    "def RWMetropolis(start, n):\n",
    "    results = [start]\n",
    "    num_accepted = 0\n",
    "    for _ in range(n):\n",
    "        next_step, accepted = get_next_value(results[-1])\n",
    "        results.append(next_step)\n",
    "        num_accepted += accepted\n",
    "    stats = {'steps': n, 'acc_steps': num_accepted, 'perc_accepted': num_accepted/n}\n",
    "    return pd.DataFrame(results, columns=['ut', 'uc']), stats"
   ]
  },
  {
   "cell_type": "code",
   "execution_count": null,
   "metadata": {
    "scrolled": true
   },
   "outputs": [],
   "source": [
    "rmw_data, rmw_stats = RWMetropolis((10, 5), 100)"
   ]
  },
  {
   "cell_type": "code",
   "execution_count": null,
   "metadata": {},
   "outputs": [],
   "source": [
    "g = sns.jointplot(data=rmw_data, x='ut', y='uc') \n",
    "g.ax_marg_x.axvline(rmw_data.ut.mean(), color='r', linestyle='--')\n",
    "g.ax_marg_y.axhline(rmw_data.uc.mean(), color='r', linestyle='--')"
   ]
  },
  {
   "cell_type": "code",
   "execution_count": null,
   "metadata": {},
   "outputs": [],
   "source": [
    "f, ax = plt.subplots(1, 1, figsize=(10, 6))\n",
    "sns.histplot(rmw_data, bins=50, stat='count')\n",
    "ax.axvline(rmw_data.ut.mean(), color='r', linestyle='--')\n",
    "ax.axvline(rmw_data.uc.mean(), color='r', linestyle='--')"
   ]
  },
  {
   "cell_type": "code",
   "execution_count": null,
   "metadata": {},
   "outputs": [],
   "source": [
    "plt.plot(rmw_data.ut, rmw_data.uc, '.-')"
   ]
  },
  {
   "cell_type": "markdown",
   "metadata": {},
   "source": [
    "### 15.1.3 Code up a Random Walk Metropolis sampler"
   ]
  },
  {
   "cell_type": "code",
   "execution_count": null,
   "metadata": {},
   "outputs": [],
   "source": [
    "rmw_stats"
   ]
  },
  {
   "cell_type": "markdown",
   "metadata": {},
   "source": [
    "### 15.1.4 Calculate Gelman's R"
   ]
  },
  {
   "cell_type": "code",
   "execution_count": null,
   "metadata": {},
   "outputs": [],
   "source": [
    "def calc_W(chains):\n",
    "    '''Calculate within chain variance'''\n",
    "    # chains is list of lists at the moment\n",
    "    return np.mean([np.var(c, ddof=1) for c in chains])"
   ]
  },
  {
   "cell_type": "code",
   "execution_count": null,
   "metadata": {},
   "outputs": [],
   "source": [
    "def calc_B(chains):\n",
    "    '''Calculate between chain variance'''\n",
    "    # chains is list of lists at the moment\n",
    "    glob_mean = np.mean(chains)\n",
    "    chain_means = [np.mean(c) for c in chains]\n",
    "    n_chains = len(chains)\n",
    "    t = len(chains[0])\n",
    "    return np.sum((chain_means-glob_mean)**2)*t/(n_chains-1)"
   ]
  },
  {
   "cell_type": "code",
   "execution_count": null,
   "metadata": {},
   "outputs": [],
   "source": [
    "def calc_R(chains):\n",
    "    B = calc_B(chains)\n",
    "    W = calc_W(chains)\n",
    "    T = len(chains[0])\n",
    "#     print(B, W, T)\n",
    "    return np.sqrt((W + (B-W)/T)/W)"
   ]
  },
  {
   "cell_type": "markdown",
   "metadata": {},
   "source": [
    "### 15.1.5 Start 8 chains at (20,5) with lengh of 5 and calc R"
   ]
  },
  {
   "cell_type": "code",
   "execution_count": null,
   "metadata": {},
   "outputs": [],
   "source": [
    "def RWMetropolis_chains(n_chains, l_chain, start_init):\n",
    "    chains = [RWMetropolis(start_init(), l_chain)[0] for _ in range(n_chains)]\n",
    "    R_ut = calc_R([c.ut for c in chains])\n",
    "    R_uc = calc_R([c.uc for c in chains])\n",
    "    return R_ut, R_uc, chains"
   ]
  },
  {
   "cell_type": "code",
   "execution_count": null,
   "metadata": {},
   "outputs": [],
   "source": [
    "def constant_initializer():\n",
    "    return (20, 5)"
   ]
  },
  {
   "cell_type": "code",
   "execution_count": null,
   "metadata": {
    "scrolled": true
   },
   "outputs": [],
   "source": [
    "R_ut, R_uc, chains = RWMetropolis_chains(8, 5, constant_initializer)"
   ]
  },
  {
   "cell_type": "code",
   "execution_count": null,
   "metadata": {},
   "outputs": [],
   "source": [
    "def chains_plot(chains):\n",
    "    N = len(chains[0].ut)\n",
    "    R_uts = [calc_R([c.ut[:i] for c in chains]) for i in range(N+1)]\n",
    "    R_ucs = [calc_R([c.uc[:i] for c in chains]) for i in range(N+1)]\n",
    "    \n",
    "    f, ax = plt.subplots(2, 2, figsize=(12,10))\n",
    "    ax[0][0].plot(list(zip(*[c.ut for c in chains])), '.-')\n",
    "    ax[0][0].set_title(f'ut ($\\hat{{R}}$={R_uts[-1]:.3})')\n",
    "    ax[0][0].set_ylim((0, 35))\n",
    "    ax[0][1].plot(list(zip(*[c.uc for c in chains])), '.-')\n",
    "    ax[0][1].set_title(f'uc ($\\hat{{R}}$={R_ucs[-1]:.3})')\n",
    "    ax[0][1].set_ylim((0, 9))\n",
    "    \n",
    "    ax[1][0].plot(R_uts)\n",
    "    ax[1][1].plot(R_ucs)\n",
    "    for a in ax[1]:\n",
    "        a.set_ylim([0, 4])\n",
    "        a.axhline(1.1, color='r')\n",
    "        \n",
    "    uts_conv = np.argmax(np.array(R_uts)<1.1)\n",
    "    ucs_conv = np.argmax(np.array(R_ucs)<1.1)\n",
    "    \n",
    "    ax[1][0].axvline(uts_conv, color='g')\n",
    "    ax[1][1].axvline(ucs_conv, color='g')\n",
    "    ax[1][0].set_title(f'converged at {uts_conv}')\n",
    "    ax[1][1].set_title(f'converged at {ucs_conv}')"
   ]
  },
  {
   "cell_type": "code",
   "execution_count": null,
   "metadata": {},
   "outputs": [],
   "source": [
    "a = chains_plot(chains)"
   ]
  },
  {
   "cell_type": "markdown",
   "metadata": {},
   "source": [
    "### 15.1.6 Start 8 chains at random locations and length 100"
   ]
  },
  {
   "cell_type": "code",
   "execution_count": null,
   "metadata": {},
   "outputs": [],
   "source": [
    "def random_initializer():\n",
    "    means = [20, 5]\n",
    "    covs = np.identity(2)*40\n",
    "    return stats.multivariate_normal.rvs(means, covs, size=1)"
   ]
  },
  {
   "cell_type": "code",
   "execution_count": null,
   "metadata": {},
   "outputs": [],
   "source": [
    "R_ut, R_uc, chains = RWMetropolis_chains(8, 300, random_initializer)"
   ]
  },
  {
   "cell_type": "code",
   "execution_count": null,
   "metadata": {},
   "outputs": [],
   "source": [
    "chains_plot(chains)"
   ]
  },
  {
   "cell_type": "markdown",
   "metadata": {},
   "source": [
    "### 15.1.7 After how many iterations converged?"
   ]
  },
  {
   "cell_type": "markdown",
   "metadata": {},
   "source": [
    "Convergence marked in green in above plots; it tooks about 250 iterations for ut and 150 for uc"
   ]
  },
  {
   "cell_type": "markdown",
   "metadata": {},
   "source": [
    "### 15.1.8 Create Gibbs sampler"
   ]
  },
  {
   "cell_type": "code",
   "execution_count": null,
   "metadata": {},
   "outputs": [],
   "source": [
    "def get_next_gibbs(ut, uc):\n",
    "    new_ut = stats.norm.rvs(20 + 1.6*(uc-5), (1-0.8)**2*2)\n",
    "    new_uc = stats.norm.rvs(5 + 0.4*(new_ut-20), (1-0.8)**2*0.5)\n",
    "    return new_ut, new_uc"
   ]
  },
  {
   "cell_type": "code",
   "execution_count": null,
   "metadata": {},
   "outputs": [],
   "source": [
    "def gibbs_sampler(start, l_chain):\n",
    "    results = [start]\n",
    "    for i in range(l_chain):\n",
    "        new_sample = get_next_gibbs(*results[-1])\n",
    "        results.append(new_sample) \n",
    "    stats = {'steps': l_chain}\n",
    "    return pd.DataFrame(results, columns=['ut', 'uc']), stats"
   ]
  },
  {
   "cell_type": "markdown",
   "metadata": {},
   "source": [
    "### 15.1.9 Draw 100 samples using Gibbs sampler"
   ]
  },
  {
   "cell_type": "code",
   "execution_count": null,
   "metadata": {
    "scrolled": true
   },
   "outputs": [],
   "source": [
    "gibbs_data, gibbs_stats = gibbs_sampler((10, 5), 100)"
   ]
  },
  {
   "cell_type": "code",
   "execution_count": null,
   "metadata": {},
   "outputs": [],
   "source": [
    "f, ax = plt.subplots(1, 1, figsize=(10, 6))\n",
    "sns.histplot(rmw_data, bins=50, stat='count')\n",
    "ax.axvline(gibbs_data.ut.mean(), color='r', linestyle='--')\n",
    "ax.axvline(gibbs_data.uc.mean(), color='r', linestyle='--')"
   ]
  },
  {
   "cell_type": "code",
   "execution_count": null,
   "metadata": {},
   "outputs": [],
   "source": [
    "plt.plot(gibbs_data.ut[50:], gibbs_data.uc[50:], '.-')"
   ]
  },
  {
   "cell_type": "markdown",
   "metadata": {},
   "source": [
    "### 15.1.10 Draw 200 samples using different methods and compare error"
   ]
  },
  {
   "cell_type": "code",
   "execution_count": null,
   "metadata": {},
   "outputs": [],
   "source": [
    "def get_error_estimates(algo, l_chain, warmup, n):\n",
    "    data = [algo(random_initializer(), l_chain)[0][warmup:].ut for _ in range(n)]\n",
    "    return [d.mean() - 20 for d in data]\n",
    "        "
   ]
  },
  {
   "cell_type": "code",
   "execution_count": null,
   "metadata": {},
   "outputs": [],
   "source": [
    "gibbs_errors = get_error_estimates(gibbs_sampler, 200, 100, 40)\n",
    "rwm_errors = get_error_estimates(RWMetropolis, 200, 100, 40)\n",
    "ind_errors = get_error_estimates(gen_random, 200, 100, 40)"
   ]
  },
  {
   "cell_type": "code",
   "execution_count": null,
   "metadata": {},
   "outputs": [],
   "source": [
    "plt.figure(figsize=(10, 6))\n",
    "sns.histplot([gibbs_errors, rwm_errors, ind_errors], bins=50)\n",
    "plt.legend(['gibbs', 'RWM', 'indepedent'])\n",
    "# sns.histplot(rwm_errors)"
   ]
  },
  {
   "cell_type": "markdown",
   "metadata": {},
   "source": [
    "### 15.1.11 Average error vs sample size"
   ]
  },
  {
   "cell_type": "code",
   "execution_count": null,
   "metadata": {},
   "outputs": [],
   "source": [
    "ns = list(range(5, 200, 5))\n",
    "gibbs_error_avg = [np.mean(np.abs(get_error_estimates(gibbs_sampler, n, 0, 50))) for n in ns]\n",
    "rwm_error_avg = [np.mean(np.abs(get_error_estimates(RWMetropolis, n, 0, 50))) for n in ns]\n",
    "ind_error_avg = [np.mean(np.abs(get_error_estimates(gen_random, n, 0, 50))) for n in ns]"
   ]
  },
  {
   "cell_type": "code",
   "execution_count": null,
   "metadata": {},
   "outputs": [],
   "source": [
    "plt.figure(figsize=(10, 6))\n",
    "plt.plot(ns, gibbs_error_avg, label='gibbs')\n",
    "plt.plot(ns, rwm_error_avg, label='RWM')\n",
    "plt.plot(ns, ind_error_avg, label='independent')\n",
    "plt.legend()"
   ]
  },
  {
   "cell_type": "markdown",
   "metadata": {},
   "source": [
    "Why Gibbs is better then independent if using 50% warmup?"
   ]
  },
  {
   "cell_type": "markdown",
   "metadata": {},
   "source": [
    "### 15.1.12 Effective sample size for n = 150"
   ]
  },
  {
   "cell_type": "code",
   "execution_count": null,
   "metadata": {},
   "outputs": [],
   "source": [
    "ind_150 = ns.index(150)\n",
    "gibbs_150 = gibbs_error_avg[ind_150]\n",
    "ns[np.argmax(ind_error_avg < gibbs_150)]"
   ]
  },
  {
   "cell_type": "code",
   "execution_count": null,
   "metadata": {},
   "outputs": [],
   "source": [
    "rwm_150 = rwm_error_avg[ind_150]\n",
    "ns[np.argmax(ind_error_avg < rwm_150)]"
   ]
  },
  {
   "cell_type": "code",
   "execution_count": null,
   "metadata": {
    "scrolled": false
   },
   "outputs": [],
   "source": [
    "rwm_error_avg[ind_150]"
   ]
  },
  {
   "cell_type": "code",
   "execution_count": null,
   "metadata": {},
   "outputs": [],
   "source": []
  }
 ],
 "metadata": {
  "kernelspec": {
   "display_name": "bayes",
   "language": "python",
   "name": "bayes"
  },
  "language_info": {
   "codemirror_mode": {
    "name": "ipython",
    "version": 3
   },
   "file_extension": ".py",
   "mimetype": "text/x-python",
   "name": "python",
   "nbconvert_exporter": "python",
   "pygments_lexer": "ipython3",
   "version": "3.8.5"
  }
 },
 "nbformat": 4,
 "nbformat_minor": 4
}
