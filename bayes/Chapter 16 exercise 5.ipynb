{
 "cells": [
  {
   "cell_type": "code",
   "execution_count": 1,
   "metadata": {
    "scrolled": true
   },
   "outputs": [],
   "source": [
    "import pystan\n",
    "import seaborn as sns\n",
    "import numpy as np\n",
    "import pandas as pd"
   ]
  },
  {
   "cell_type": "code",
   "execution_count": 2,
   "metadata": {},
   "outputs": [],
   "source": [
    "sns.set(rc={'figure.figsize':(14, 10)})"
   ]
  },
  {
   "cell_type": "markdown",
   "metadata": {},
   "source": [
    "## 16.5"
   ]
  },
  {
   "cell_type": "code",
   "execution_count": 3,
   "metadata": {},
   "outputs": [],
   "source": [
    "Y = [9, 7, 11, 10, 10, 9, 8, 11, 9, 11]\n",
    "assert len(Y) == 10"
   ]
  },
  {
   "cell_type": "markdown",
   "metadata": {},
   "source": [
    "### 16.5.1"
   ]
  },
  {
   "cell_type": "markdown",
   "metadata": {},
   "source": [
    "$ Y[i] \\sim \\mathcal{B}(N, \\theta)$\n"
   ]
  },
  {
   "cell_type": "markdown",
   "metadata": {},
   "source": [
    "### 16.5.2"
   ]
  },
  {
   "cell_type": "markdown",
   "metadata": {},
   "source": [
    "$ Y[i] \\sim \\mathcal{B}(N, \\theta)$\n",
    "\n",
    "$ \\theta \\sim beta(7, 2)$\n",
    "\n",
    "$ N \\sim uniform(11, 20) $"
   ]
  },
  {
   "cell_type": "code",
   "execution_count": 4,
   "metadata": {},
   "outputs": [
    {
     "data": {
      "text/plain": [
       "'\\ndata {\\n    int<lower=0> nExperiments;\\n    int<lower=0, upper=20> Y[nExperiments];\\n}\\n\\nmodel {\\n    theta ~ beta(7, 2); \\n    matrix[nExperiments, 10] logp;\\n    for(e in 1:nExperiments){\\n        for(n in 1:10){\\n        logp[e, n] = log(0.1) + binomial_lpmf(Y[e] | n+10, theta);\\n    }\\n}\\n'"
      ]
     },
     "execution_count": 4,
     "metadata": {},
     "output_type": "execute_result"
    }
   ],
   "source": [
    "'''\n",
    "data {\n",
    "    int<lower=0> nExperiments;\n",
    "    int<lower=0, upper=20> Y[nExperiments];\n",
    "}\n",
    "\n",
    "model {\n",
    "    theta ~ beta(7, 2); \n",
    "    matrix[nExperiments, 10] logp;\n",
    "    for(e in 1:nExperiments){\n",
    "        for(n in 1:10){\n",
    "        logp[e, n] = log(0.1) + binomial_lpmf(Y[e] | n+10, theta);\n",
    "    }\n",
    "}\n",
    "'''"
   ]
  },
  {
   "cell_type": "markdown",
   "metadata": {},
   "source": [
    "### 16.5.3"
   ]
  },
  {
   "cell_type": "markdown",
   "metadata": {},
   "source": [
    "todo"
   ]
  },
  {
   "cell_type": "markdown",
   "metadata": {},
   "source": [
    "### 16.5.4"
   ]
  },
  {
   "cell_type": "code",
   "execution_count": 5,
   "metadata": {},
   "outputs": [],
   "source": [
    "ocode = \"\"\"\n",
    "transformed parameters {\n",
    "    matrix[nExperiments, 10] logp;\n",
    "    for(e in 1:nExperiments){\n",
    "        for(n in 1:10){\n",
    "        logp[e, n] = log(0.1) + binomial_lpmf(Y[e] | n+10, theta);\n",
    "    }\n",
    "}\n",
    "\"\"\""
   ]
  },
  {
   "cell_type": "markdown",
   "metadata": {},
   "source": [
    "### 16.5.5"
   ]
  },
  {
   "cell_type": "code",
   "execution_count": 44,
   "metadata": {},
   "outputs": [],
   "source": [
    "data = {'nExperiments': len(Y), 'Y': Y}"
   ]
  },
  {
   "cell_type": "code",
   "execution_count": 41,
   "metadata": {},
   "outputs": [
    {
     "name": "stderr",
     "output_type": "stream",
     "text": [
      "INFO:pystan:COMPILING THE C++ CODE FOR MODEL anon_model_146055d62ad978c4d7685f0248a2c14a NOW.\n"
     ]
    }
   ],
   "source": [
    "ocode = \"\"\"\n",
    "data {\n",
    "    int<lower=1> nExperiments;\n",
    "    int<lower=0, upper=20> Y[nExperiments];\n",
    "}\n",
    "\n",
    "parameters {\n",
    "    real<lower=0, upper=1> theta;\n",
    "}\n",
    "\n",
    "\n",
    "transformed parameters {\n",
    "    vector[10] lp;\n",
    "    for(s in 1:10){\n",
    "        lp[s] = log(0.1) + binomial_lpmf(Y | s+10, theta);\n",
    "    }\n",
    "}\n",
    "\n",
    "model {\n",
    "    theta ~ beta(7, 2);\n",
    "    target += log_sum_exp(lp);\n",
    "}\n",
    "\n",
    "generated quantities {\n",
    "    simplex[10] pState;\n",
    "    pState = exp(lp - log_sum_exp(lp));\n",
    "}\n",
    "\"\"\"\n",
    "sm = pystan.StanModel(model_code=ocode)"
   ]
  },
  {
   "cell_type": "code",
   "execution_count": 45,
   "metadata": {},
   "outputs": [
    {
     "data": {
      "text/plain": [
       "Inference for Stan model: anon_model_146055d62ad978c4d7685f0248a2c14a.\n",
       "4 chains, each with iter=1000; warmup=500; thin=1; \n",
       "post-warmup draws per chain=500, total post-warmup draws=2000.\n",
       "\n",
       "             mean se_mean     sd    2.5%     25%     50%     75%  97.5%  n_eff   Rhat\n",
       "theta        0.79  3.5e-3   0.08    0.58    0.74    0.81    0.85    0.9    582    1.0\n",
       "lp[1]      -22.13    0.24   5.67  -39.68  -23.23  -19.73  -18.66  -18.4    561    1.0\n",
       "lp[2]      -21.27    0.13    3.4  -31.21  -22.07  -20.04  -19.13 -18.82    635   1.01\n",
       "lp[3]      -23.76    0.16   4.53  -34.89  -26.26  -22.37  -20.05 -19.33    811    1.0\n",
       "lp[4]       -28.3    0.28   7.67  -46.02  -33.11  -26.58  -21.74 -19.77    729    1.0\n",
       "lp[5]       -34.3    0.43  11.26   -58.9  -41.94  -32.25  -24.66 -20.19    689    1.0\n",
       "lp[6]      -41.41    0.58  14.97  -72.89  -51.88  -39.46  -28.86 -20.65    670    1.0\n",
       "lp[7]      -49.38    0.73  18.73  -87.75  -62.69  -47.55  -34.11 -21.02    659    1.0\n",
       "lp[8]      -58.07    0.88  22.52  -103.3   -74.2  -56.34  -40.08 -21.82    652    1.0\n",
       "lp[9]      -67.35    1.03  26.32  -119.4  -86.32  -65.73  -46.64 -23.38    647    1.0\n",
       "lp[10]     -77.14    1.19  30.13  -136.1  -98.93  -75.62   -53.7 -25.47    643    1.0\n",
       "pState[1]    0.42    0.02    0.4  1.7e-9    0.01     0.3    0.88    1.0    698    1.0\n",
       "pState[2]    0.29  8.7e-3   0.26  8.1e-6    0.03    0.21    0.54   0.72    901   1.01\n",
       "pState[3]    0.14  5.8e-3   0.19  1.9e-7  4.2e-4    0.02    0.25   0.57   1090    1.0\n",
       "pState[4]    0.07  4.8e-3   0.14 2.2e-12  3.8e-7  3.6e-4    0.05   0.47    790    1.0\n",
       "pState[5]    0.03  3.5e-3   0.09 5.7e-18 5.5e-11  1.0e-6  2.7e-3   0.38    667   1.01\n",
       "pState[6]    0.02  2.5e-3   0.07 4.8e-24 2.7e-15 7.6e-10  3.8e-5    0.3    690   1.01\n",
       "pState[7]    0.01  1.9e-3   0.05 1.7e-30 5.4e-20 2.3e-13  2.0e-7   0.23    736    1.0\n",
       "pState[8]  6.9e-3  1.4e-3   0.04 2.9e-37 5.4e-25 3.6e-17 5.1e-10    0.1    827    1.0\n",
       "pState[9]  4.0e-3  8.7e-4   0.03 2.8e-44 2.9e-30 3.0e-21 7.3e-13   0.02   1170    1.0\n",
       "pState[10] 2.1e-3  5.2e-4   0.02 1.6e-51 9.7e-36 1.5e-25 6.2e-16 2.5e-3   1656    1.0\n",
       "lp__       -23.62    0.02   0.59  -25.38  -23.74  -23.36  -23.25 -23.24    699   1.01\n",
       "\n",
       "Samples were drawn using NUTS at Thu Feb  4 22:19:01 2021.\n",
       "For each parameter, n_eff is a crude measure of effective sample size,\n",
       "and Rhat is the potential scale reduction factor on split chains (at \n",
       "convergence, Rhat=1)."
      ]
     },
     "execution_count": 45,
     "metadata": {},
     "output_type": "execute_result"
    }
   ],
   "source": [
    "fit = sm.sampling(data=data, iter=1000, chains=4, seed=1)\n",
    "fit"
   ]
  },
  {
   "cell_type": "code",
   "execution_count": null,
   "metadata": {},
   "outputs": [],
   "source": []
  }
 ],
 "metadata": {
  "kernelspec": {
   "display_name": "bayes",
   "language": "python",
   "name": "bayes"
  },
  "language_info": {
   "codemirror_mode": {
    "name": "ipython",
    "version": 3
   },
   "file_extension": ".py",
   "mimetype": "text/x-python",
   "name": "python",
   "nbconvert_exporter": "python",
   "pygments_lexer": "ipython3",
   "version": "3.8.5"
  }
 },
 "nbformat": 4,
 "nbformat_minor": 4
}
