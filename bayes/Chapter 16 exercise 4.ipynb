{
 "cells": [
  {
   "cell_type": "code",
   "execution_count": 4,
   "metadata": {
    "scrolled": true
   },
   "outputs": [],
   "source": [
    "import pystan\n",
    "import seaborn as sns\n",
    "import numpy as np\n",
    "import pandas as pd"
   ]
  },
  {
   "cell_type": "code",
   "execution_count": 5,
   "metadata": {},
   "outputs": [],
   "source": [
    "sns.set(rc={'figure.figsize':(14, 10)})"
   ]
  },
  {
   "cell_type": "markdown",
   "metadata": {},
   "source": [
    "## 16.4"
   ]
  },
  {
   "cell_type": "code",
   "execution_count": 6,
   "metadata": {},
   "outputs": [],
   "source": [
    "X = [4, 18, 6, 4, 5, 6, 4, 6, 16, 7]\n",
    "assert len(X) == 10"
   ]
  },
  {
   "cell_type": "markdown",
   "metadata": {},
   "source": [
    "### 16.4.1"
   ]
  },
  {
   "cell_type": "markdown",
   "metadata": {},
   "source": [
    "$ \\theta_b \\sim \\mathcal{U}(0,1) $\n",
    "\n",
    "$ \\theta_m \\sim \\mathcal{U}(0,1) $\n",
    "\n",
    "$ s_i \\sim \\mathcal{B}(0.5) $\n",
    "\n",
    "$ X[i] \\sim \\mathcal{B}(20, \\theta_m) \\;\\;\\;{if}\\; s_i = 1 $\n",
    "\n",
    "$ X[i] \\sim \\mathcal{B}(20, \\theta_b) \\;\\;\\; {if}\\;s_i = 0 $"
   ]
  },
  {
   "cell_type": "markdown",
   "metadata": {},
   "source": [
    "$s_i = 1$ means malignant, $0$ - benign"
   ]
  },
  {
   "cell_type": "markdown",
   "metadata": {},
   "source": [
    "### 16.4.2"
   ]
  },
  {
   "cell_type": "markdown",
   "metadata": {},
   "source": [
    "s == 1 -> benign, s == 2 -> malignant"
   ]
  },
  {
   "cell_type": "code",
   "execution_count": 7,
   "metadata": {},
   "outputs": [
    {
     "data": {
      "text/plain": [
       "'\\ntransformed parameters {\\n    matrix[nStudy, 2] logp;\\n    for(i in 1:N){\\n        matrix[i, 1] = log(0.5) + binomial_lpmf(X[i] | N, theta[1]);\\n        matrix[i, 2] = log(0.5) + binomial_lpmf(X[i] | N, theta[2]);\\n    }\\n}\\n'"
      ]
     },
     "execution_count": 7,
     "metadata": {},
     "output_type": "execute_result"
    }
   ],
   "source": [
    "'''\n",
    "transformed parameters {\n",
    "    matrix[nStudy, 2] logp;\n",
    "    for(i in 1:N){\n",
    "        logp[i, 1] = log(0.5) + binomial_lpmf(X[i] | N, theta[1]);\n",
    "        logp[i, 2] = log(0.5) + binomial_lpmf(X[i] | N, theta[2]);\n",
    "    }\n",
    "}\n",
    "'''"
   ]
  },
  {
   "cell_type": "markdown",
   "metadata": {},
   "source": [
    "### 16.4.3 "
   ]
  },
  {
   "cell_type": "code",
   "execution_count": 27,
   "metadata": {},
   "outputs": [
    {
     "name": "stderr",
     "output_type": "stream",
     "text": [
      "INFO:pystan:COMPILING THE C++ CODE FOR MODEL anon_model_50259110c51b639de2a7299ad999d3ae NOW.\n"
     ]
    }
   ],
   "source": [
    "ocode = \"\"\"\n",
    "data {\n",
    "    int<lower=1> N;\n",
    "    int<lower=0, upper=20> X[N];\n",
    "\n",
    "}\n",
    "\n",
    "parameters {\n",
    "    ordered[2] alpha;\n",
    "}\n",
    "\n",
    "transformed parameters {\n",
    "    real<lower=0, upper=1> theta[2];\n",
    "    matrix[N, 2] logp;\n",
    "    \n",
    "    theta[1] = inv_logit(alpha[1]);\n",
    "    theta[2] = inv_logit(alpha[2]);\n",
    "    \n",
    "    for(i in 1:N){\n",
    "        logp[i, 1] = log(0.5) + binomial_logit_lpmf(X[i] | 20, alpha[1]);\n",
    "        logp[i, 2] = log(0.5) + binomial_logit_lpmf(X[i] | 20, alpha[2]);\n",
    "    }\n",
    "}\n",
    "model {\n",
    "   for(i in 1:N){\n",
    "        target += log_sum_exp(logp[i]);\n",
    "    }\n",
    "}\n",
    "\n",
    "\n",
    "\"\"\"\n",
    "sm = pystan.StanModel(model_code=ocode)"
   ]
  },
  {
   "cell_type": "code",
   "execution_count": 28,
   "metadata": {},
   "outputs": [],
   "source": [
    "data = {'N': len(X), 'X': X}"
   ]
  },
  {
   "cell_type": "code",
   "execution_count": 29,
   "metadata": {},
   "outputs": [
    {
     "data": {
      "text/plain": [
       "Inference for Stan model: anon_model_50259110c51b639de2a7299ad999d3ae.\n",
       "4 chains, each with iter=1000; warmup=500; thin=1; \n",
       "post-warmup draws per chain=500, total post-warmup draws=2000.\n",
       "\n",
       "             mean se_mean     sd   2.5%    25%    50%    75%  97.5%  n_eff   Rhat\n",
       "alpha[1]    -1.04  4.9e-3   0.18  -1.38  -1.16  -1.03  -0.92  -0.69   1320    1.0\n",
       "alpha[2]      1.8    0.01   0.47   0.97   1.47   1.76    2.1   2.84   1168    1.0\n",
       "theta[1]     0.26  9.6e-4   0.03    0.2   0.24   0.26   0.28   0.34   1296    1.0\n",
       "theta[2]     0.85  1.7e-3   0.06   0.72   0.81   0.85   0.89   0.94   1167    1.0\n",
       "logp[1,1]   -2.48  6.9e-3   0.24  -3.11   -2.6  -2.43   -2.3  -2.22   1214    1.0\n",
       "logp[2,1]  -20.25    0.06   2.28  -24.8 -21.75 -20.15 -18.71 -15.94   1321    1.0\n",
       "logp[3,1]   -2.48  4.5e-3   0.16   -2.9  -2.54  -2.42  -2.37  -2.35   1256    1.0\n",
       "logp[4,1]   -2.48  6.9e-3   0.24  -3.11   -2.6  -2.43   -2.3  -2.22   1214    1.0\n",
       "logp[5,1]   -2.36  3.0e-3    0.1  -2.64  -2.38  -2.32   -2.3  -2.29   1052    1.0\n",
       "logp[6,1]   -2.48  4.5e-3   0.16   -2.9  -2.54  -2.42  -2.37  -2.35   1256    1.0\n",
       "logp[7,1]   -2.48  6.9e-3   0.24  -3.11   -2.6  -2.43   -2.3  -2.22   1214    1.0\n",
       "logp[8,1]   -2.48  4.5e-3   0.16   -2.9  -2.54  -2.42  -2.37  -2.35   1256    1.0\n",
       "logp[9,1]  -14.94    0.05   1.92 -18.79 -16.19 -14.84 -13.64 -11.33   1321    1.0\n",
       "logp[10,1]  -2.83  9.0e-3   0.32  -3.59   -3.0  -2.76  -2.58   -2.4   1307    1.0\n",
       "logp[1,2]  -24.31    0.18   6.28 -38.71  -28.1  -23.5 -19.88 -14.11   1189    1.0\n",
       "logp[2,2]   -2.37    0.02   0.52  -3.83  -2.54  -2.18   -2.0  -1.95   1086    1.0\n",
       "logp[3,2]  -18.63    0.15   5.34 -30.96 -21.82 -17.91 -14.86  -10.1   1190    1.0\n",
       "logp[4,2]  -24.31    0.18   6.28 -38.71  -28.1  -23.5 -19.88 -14.11   1189    1.0\n",
       "logp[5,2]  -21.35    0.17   5.81 -34.72 -24.83 -20.58 -17.25 -11.98   1190    1.0\n",
       "logp[6,2]  -18.63    0.15   5.34 -30.96 -21.82 -17.91 -14.86  -10.1   1190    1.0\n",
       "logp[7,2]  -24.31    0.18   6.28 -38.71  -28.1  -23.5 -19.88 -14.11   1189    1.0\n",
       "logp[8,2]  -18.63    0.15   5.34 -30.96 -21.82 -17.91 -14.86  -10.1   1190    1.0\n",
       "logp[9,2]   -2.73    0.02   0.68  -4.69  -2.93  -2.47  -2.26  -2.22   1221    1.0\n",
       "logp[10,2] -16.14    0.14   4.86 -27.44 -19.03 -15.46  -12.7  -8.44   1191    1.0\n",
       "lp__       -24.16    0.04   1.03 -26.91 -24.55 -23.86 -23.43 -23.15    846    1.0\n",
       "\n",
       "Samples were drawn using NUTS at Tue Feb  2 21:42:56 2021.\n",
       "For each parameter, n_eff is a crude measure of effective sample size,\n",
       "and Rhat is the potential scale reduction factor on split chains (at \n",
       "convergence, Rhat=1)."
      ]
     },
     "execution_count": 29,
     "metadata": {},
     "output_type": "execute_result"
    }
   ],
   "source": [
    "fit = sm.sampling(data=data, iter=1000, chains=4, seed=1)\n",
    "fit"
   ]
  },
  {
   "cell_type": "markdown",
   "metadata": {},
   "source": [
    "### 16.4.4"
   ]
  },
  {
   "cell_type": "code",
   "execution_count": 30,
   "metadata": {
    "scrolled": false
   },
   "outputs": [
    {
     "name": "stderr",
     "output_type": "stream",
     "text": [
      "INFO:pystan:COMPILING THE C++ CODE FOR MODEL anon_model_8787560796fec25e7a4422be212dbc6b NOW.\n"
     ]
    }
   ],
   "source": [
    "ocode = \"\"\"\n",
    "data {\n",
    "    int<lower=1> N;\n",
    "    int<lower=0, upper=20> X[N];\n",
    "\n",
    "}\n",
    "\n",
    "parameters {\n",
    "    ordered[2] alpha;\n",
    "}\n",
    "\n",
    "transformed parameters {\n",
    "    real<lower=0, upper=1> theta[2];\n",
    "    matrix[N, 2] logp;\n",
    "    \n",
    "    theta[1] = inv_logit(alpha[1]);\n",
    "    theta[2] = inv_logit(alpha[2]);\n",
    "    \n",
    "    for(i in 1:N){\n",
    "        logp[i, 1] = log(0.5) + binomial_logit_lpmf(X[i] | 20, alpha[1]);\n",
    "        logp[i, 2] = log(0.5) + binomial_logit_lpmf(X[i] | 20, alpha[2]);\n",
    "    }\n",
    "}\n",
    "model {\n",
    "   for(i in 1:N){\n",
    "        target += log_sum_exp(logp[i]);\n",
    "    }\n",
    "}\n",
    "\n",
    "generated quantities {\n",
    "    real pState[N];\n",
    "    for(i in 1:N){\n",
    "        pState[i] = exp(logp[i,1]) / (exp(logp[i,1]) + exp(logp[i,2]));\n",
    "    }\n",
    "}\n",
    "\n",
    "\n",
    "\n",
    "\"\"\"\n",
    "sm = pystan.StanModel(model_code=ocode)"
   ]
  },
  {
   "cell_type": "code",
   "execution_count": 31,
   "metadata": {},
   "outputs": [],
   "source": [
    "data = {'N': len(X), 'X': X}"
   ]
  },
  {
   "cell_type": "code",
   "execution_count": 32,
   "metadata": {},
   "outputs": [
    {
     "data": {
      "text/plain": [
       "Inference for Stan model: anon_model_8787560796fec25e7a4422be212dbc6b.\n",
       "4 chains, each with iter=1000; warmup=500; thin=1; \n",
       "post-warmup draws per chain=500, total post-warmup draws=2000.\n",
       "\n",
       "             mean se_mean     sd    2.5%    25%    50%    75%  97.5%  n_eff   Rhat\n",
       "alpha[1]    -1.04  4.9e-3   0.18   -1.38  -1.16  -1.03  -0.92  -0.69   1320    1.0\n",
       "alpha[2]      1.8    0.01   0.47    0.97   1.47   1.76    2.1   2.84   1168    1.0\n",
       "theta[1]     0.26  9.6e-4   0.03     0.2   0.24   0.26   0.28   0.34   1296    1.0\n",
       "theta[2]     0.85  1.7e-3   0.06    0.72   0.81   0.85   0.89   0.94   1167    1.0\n",
       "logp[1,1]   -2.48  6.9e-3   0.24   -3.11   -2.6  -2.43   -2.3  -2.22   1214    1.0\n",
       "logp[2,1]  -20.25    0.06   2.28   -24.8 -21.75 -20.15 -18.71 -15.94   1321    1.0\n",
       "logp[3,1]   -2.48  4.5e-3   0.16    -2.9  -2.54  -2.42  -2.37  -2.35   1256    1.0\n",
       "logp[4,1]   -2.48  6.9e-3   0.24   -3.11   -2.6  -2.43   -2.3  -2.22   1214    1.0\n",
       "logp[5,1]   -2.36  3.0e-3    0.1   -2.64  -2.38  -2.32   -2.3  -2.29   1052    1.0\n",
       "logp[6,1]   -2.48  4.5e-3   0.16    -2.9  -2.54  -2.42  -2.37  -2.35   1256    1.0\n",
       "logp[7,1]   -2.48  6.9e-3   0.24   -3.11   -2.6  -2.43   -2.3  -2.22   1214    1.0\n",
       "logp[8,1]   -2.48  4.5e-3   0.16    -2.9  -2.54  -2.42  -2.37  -2.35   1256    1.0\n",
       "logp[9,1]  -14.94    0.05   1.92  -18.79 -16.19 -14.84 -13.64 -11.33   1321    1.0\n",
       "logp[10,1]  -2.83  9.0e-3   0.32   -3.59   -3.0  -2.76  -2.58   -2.4   1307    1.0\n",
       "logp[1,2]  -24.31    0.18   6.28  -38.71  -28.1  -23.5 -19.88 -14.11   1189    1.0\n",
       "logp[2,2]   -2.37    0.02   0.52   -3.83  -2.54  -2.18   -2.0  -1.95   1086    1.0\n",
       "logp[3,2]  -18.63    0.15   5.34  -30.96 -21.82 -17.91 -14.86  -10.1   1190    1.0\n",
       "logp[4,2]  -24.31    0.18   6.28  -38.71  -28.1  -23.5 -19.88 -14.11   1189    1.0\n",
       "logp[5,2]  -21.35    0.17   5.81  -34.72 -24.83 -20.58 -17.25 -11.98   1190    1.0\n",
       "logp[6,2]  -18.63    0.15   5.34  -30.96 -21.82 -17.91 -14.86  -10.1   1190    1.0\n",
       "logp[7,2]  -24.31    0.18   6.28  -38.71  -28.1  -23.5 -19.88 -14.11   1189    1.0\n",
       "logp[8,2]  -18.63    0.15   5.34  -30.96 -21.82 -17.91 -14.86  -10.1   1190    1.0\n",
       "logp[9,2]   -2.73    0.02   0.68   -4.69  -2.93  -2.47  -2.26  -2.22   1221    1.0\n",
       "logp[10,2] -16.14    0.14   4.86  -27.44 -19.03 -15.46  -12.7  -8.44   1191    1.0\n",
       "pState[1]     1.0  5.9e-7 2.5e-5     1.0    1.0    1.0    1.0    1.0   1790    1.0\n",
       "pState[2]  2.3e-7  5.1e-8 1.9e-6 1.8e-10 3.7e-9 2.0e-8 8.2e-8 1.1e-6   1355    1.0\n",
       "pState[3]     1.0  1.2e-5 4.4e-4     1.0    1.0    1.0    1.0    1.0   1336    1.0\n",
       "pState[4]     1.0  5.9e-7 2.5e-5     1.0    1.0    1.0    1.0    1.0   1790    1.0\n",
       "pState[5]     1.0  2.4e-6 9.6e-5     1.0    1.0    1.0    1.0    1.0   1567    1.0\n",
       "pState[6]     1.0  1.2e-5 4.4e-4     1.0    1.0    1.0    1.0    1.0   1336    1.0\n",
       "pState[7]     1.0  5.9e-7 2.5e-5     1.0    1.0    1.0    1.0    1.0   1790    1.0\n",
       "pState[8]     1.0  1.2e-5 4.4e-4     1.0    1.0    1.0    1.0    1.0   1336    1.0\n",
       "pState[9]  3.9e-5  5.3e-6 2.3e-4  8.8e-8 1.3e-6 5.2e-6 1.9e-5 2.6e-4   1944    1.0\n",
       "pState[10]    1.0  7.3e-5 2.6e-3     1.0    1.0    1.0    1.0    1.0   1241    1.0\n",
       "lp__       -24.16    0.04   1.03  -26.91 -24.55 -23.86 -23.43 -23.15    846    1.0\n",
       "\n",
       "Samples were drawn using NUTS at Tue Feb  2 21:44:09 2021.\n",
       "For each parameter, n_eff is a crude measure of effective sample size,\n",
       "and Rhat is the potential scale reduction factor on split chains (at \n",
       "convergence, Rhat=1)."
      ]
     },
     "execution_count": 32,
     "metadata": {},
     "output_type": "execute_result"
    }
   ],
   "source": [
    "fit = sm.sampling(data=data, iter=1000, chains=4, seed=1)\n",
    "fit"
   ]
  },
  {
   "cell_type": "code",
   "execution_count": 33,
   "metadata": {},
   "outputs": [
    {
     "data": {
      "text/plain": [
       "[4, 18, 6, 4, 5, 6, 4, 6, 16, 7]"
      ]
     },
     "execution_count": 33,
     "metadata": {},
     "output_type": "execute_result"
    }
   ],
   "source": [
    "X"
   ]
  },
  {
   "cell_type": "markdown",
   "metadata": {},
   "source": [
    "### 16.4.5 - 16.4.8 todo"
   ]
  }
 ],
 "metadata": {
  "kernelspec": {
   "display_name": "bayes",
   "language": "python",
   "name": "bayes"
  },
  "language_info": {
   "codemirror_mode": {
    "name": "ipython",
    "version": 3
   },
   "file_extension": ".py",
   "mimetype": "text/x-python",
   "name": "python",
   "nbconvert_exporter": "python",
   "pygments_lexer": "ipython3",
   "version": "3.8.5"
  }
 },
 "nbformat": 4,
 "nbformat_minor": 4
}
