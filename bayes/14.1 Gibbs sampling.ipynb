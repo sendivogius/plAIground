{
 "cells": [
  {
   "cell_type": "code",
   "execution_count": null,
   "metadata": {},
   "outputs": [],
   "source": [
    "import scipy.stats as stats\n",
    "import seaborn as sns\n",
    "import numpy as np\n",
    "from collections import namedtuple"
   ]
  },
  {
   "cell_type": "code",
   "execution_count": null,
   "metadata": {},
   "outputs": [],
   "source": [
    "def plot_hist(values, title):\n",
    "    sns.distplot(values, kde=False, hist_kws={\"edgecolor\": \"k\", \"range\": [0,1]}).set_title(title)"
   ]
  },
  {
   "cell_type": "markdown",
   "metadata": {},
   "source": [
    "### Specify priors"
   ]
  },
  {
   "cell_type": "code",
   "execution_count": null,
   "metadata": {
    "pycharm": {
     "name": "#%%\n"
    }
   },
   "outputs": [],
   "source": [
    "beta_prior = namedtuple('beta_prior', ['a', 'b'])\n",
    "uninf = beta_prior(1, 1)\n",
    "inf_10_1 = beta_prior(10, 1)\n",
    "inf_1_10 = beta_prior(1, 10)"
   ]
  },
  {
   "cell_type": "markdown",
   "metadata": {
    "pycharm": {
     "name": "#%% md\n"
    }
   },
   "source": [
    "#### 14.1  The sensitivity and specificity of a test for a disease"
   ]
  },
  {
   "cell_type": "markdown",
   "metadata": {
    "pycharm": {
     "name": "#%% md\n"
    }
   },
   "source": [
    "##### 14.1.2 Write Gibbs sampler"
   ]
  },
  {
   "cell_type": "code",
   "execution_count": null,
   "metadata": {
    "pycharm": {
     "name": "#%%\n"
    }
   },
   "outputs": [],
   "source": [
    "def get_next_samples(a, b, pi_prior, S_prior, C_prior, pi, S, C):\n",
    "    Y1_prob = (pi*S)/ (pi*S + (1-pi)*(1-C))\n",
    "    Y1 = stats.binom.rvs(a, Y1_prob, 0, 1)\n",
    "    Y2_prob = (pi*(1-S))/ (pi*(1-S) + (1-pi)*C)\n",
    "    Y2 = stats.binom.rvs(b, Y2_prob, size=1)\n",
    "    pi_calc = stats.beta.rvs(Y1+Y2+pi_prior.a, a+b-Y1-Y2+pi_prior.b, size=1)\n",
    "    S_calc = stats.beta.rvs(Y1+S_prior.a, Y2+S_prior.b, size=1)\n",
    "    C_calc = stats.beta.rvs(b-Y2+C_prior.a, a-Y1+C_prior.b, size=1)\n",
    "    \n",
    "    return pi_calc[0], S_calc[0], C_calc[0]"
   ]
  },
  {
   "cell_type": "code",
   "execution_count": null,
   "metadata": {},
   "outputs": [],
   "source": [
    "def sampler(a, b, pi_prior, S_prior, C_prior, iters=10000):\n",
    "    pis = [np.random.uniform(0, 1, 1)[0]]\n",
    "    Ss = [np.random.uniform(0, 1, 1)[0]]\n",
    "    Cs = [np.random.uniform(0, 1, 1)[0]]\n",
    "    \n",
    "    for i in range(iters):\n",
    "        pi, S, C = get_next_samples(a, b, pi_prior, S_prior, C_prior, pis[-1], Ss[-1], Cs[-1])\n",
    "        pis.append(pi)\n",
    "        Ss.append(S)\n",
    "        Cs.append(C)\n",
    "        \n",
    "    return pis, Ss, Cs"
   ]
  },
  {
   "cell_type": "markdown",
   "metadata": {
    "pycharm": {
     "name": "#%% md\n"
    }
   },
   "source": [
    "##### 14.1.3 Generate $\\pi$ posterior for uninformative priors"
   ]
  },
  {
   "cell_type": "code",
   "execution_count": null,
   "metadata": {},
   "outputs": [],
   "source": [
    "a = 20\n",
    "b = 80"
   ]
  },
  {
   "cell_type": "code",
   "execution_count": null,
   "metadata": {
    "pycharm": {
     "name": "#%%\n"
    }
   },
   "outputs": [],
   "source": [
    "pi, S, C = sampler(a, b, pi_prior=uninf, S_prior=uninf, C_prior=uninf)"
   ]
  },
  {
   "cell_type": "code",
   "execution_count": null,
   "metadata": {},
   "outputs": [],
   "source": [
    "plot_hist(pi, '$\\pi$, uninformative priors')"
   ]
  },
  {
   "cell_type": "markdown",
   "metadata": {
    "pycharm": {
     "name": "#%% md\n"
    }
   },
   "source": [
    "##### 14.1.4 Generate $\\pi$ posterior for beta(10, 1) priors on S and C"
   ]
  },
  {
   "cell_type": "code",
   "execution_count": null,
   "metadata": {
    "pycharm": {
     "name": "#%%\n"
    }
   },
   "outputs": [],
   "source": [
    "pi, S, C = sampler(a, b, pi_prior=uninf, S_prior=inf_10_1, C_prior=inf_10_1)"
   ]
  },
  {
   "cell_type": "code",
   "execution_count": null,
   "metadata": {
    "scrolled": true
   },
   "outputs": [],
   "source": [
    "plot_hist(pi, '$\\pi$, informative priors for S and C')"
   ]
  },
  {
   "cell_type": "markdown",
   "metadata": {
    "pycharm": {
     "name": "#%% md\n"
    }
   },
   "source": [
    "##### 14.1.5 Generate S and C posterior for informative prior on $\\pi$"
   ]
  },
  {
   "cell_type": "code",
   "execution_count": null,
   "metadata": {},
   "outputs": [],
   "source": [
    "pi, S, C = sampler(a, b, pi_prior=inf_1_10, S_prior=uninf, C_prior=uninf)"
   ]
  },
  {
   "cell_type": "code",
   "execution_count": null,
   "metadata": {
    "pycharm": {
     "name": "#%%\n"
    }
   },
   "outputs": [],
   "source": [
    "plot_hist(S, 'S, informative priors for $\\pi$')"
   ]
  },
  {
   "cell_type": "code",
   "execution_count": null,
   "metadata": {},
   "outputs": [],
   "source": [
    "plot_hist(C, 'C, informative priors for $\\pi$')"
   ]
  },
  {
   "cell_type": "markdown",
   "metadata": {
    "pycharm": {
     "name": "#%% md\n"
    }
   },
   "source": [
    "##### 14.1.6  Generate S posterior for informative prior on $\\pi$ and C"
   ]
  },
  {
   "cell_type": "code",
   "execution_count": null,
   "metadata": {
    "pycharm": {
     "name": "#%%\n"
    }
   },
   "outputs": [],
   "source": [
    "pi, S, C = sampler(a, b, pi_prior=inf_1_10, S_prior=uninf, C_prior=inf_10_1)"
   ]
  },
  {
   "cell_type": "code",
   "execution_count": null,
   "metadata": {},
   "outputs": [],
   "source": [
    "plot_hist(S, 'S, informative priors for $\\pi$ and C')"
   ]
  },
  {
   "cell_type": "markdown",
   "source": [
    "##### 14.1.7 Increase sample size"
   ],
   "metadata": {
    "collapsed": false
   }
  },
  {
   "cell_type": "code",
   "execution_count": null,
   "outputs": [],
   "source": [
    "pi, S, C = sampler(a*10, b*10, pi_prior=inf_1_10, S_prior=uninf, C_prior=inf_10_1)"
   ],
   "metadata": {
    "collapsed": false,
    "pycharm": {
     "name": "#%%\n"
    }
   }
  },
  {
   "cell_type": "markdown",
   "metadata": {},
   "source": [
    "plot_hist(S, 'S, informative priors for $\\pi$ and C')"
   ]
  },
  {
   "cell_type": "code",
   "execution_count": null,
   "metadata": {},
   "outputs": [],
   "source": [
    "pi, S, C = sampler(a*10, b*10, pi_prior=inf_1_10, S_prior=uninf, C_prior=inf_10_1)"
   ]
  },
  {
   "cell_type": "code",
   "execution_count": null,
   "metadata": {},
   "outputs": [],
   "source": [
    "plot_hist(S, 'S, informative priors for $\\pi$ and C')"
   ]
  },
  {
   "cell_type": "code",
   "execution_count": null,
   "metadata": {},
   "outputs": [],
   "source": []
  }
 ],
 "metadata": {
  "kernelspec": {
   "display_name": "bayes",
   "language": "python",
   "name": "bayes"
  },
  "language_info": {
   "codemirror_mode": {
    "name": "ipython",
    "version": 3
   },
   "file_extension": ".py",
   "mimetype": "text/x-python",
   "name": "python",
   "nbconvert_exporter": "python",
   "pygments_lexer": "ipython3",
   "version": "3.8.5"
  }
 },
 "nbformat": 4,
 "nbformat_minor": 4
}