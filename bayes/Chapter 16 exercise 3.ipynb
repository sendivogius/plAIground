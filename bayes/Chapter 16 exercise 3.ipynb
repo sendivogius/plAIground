{
 "cells": [
  {
   "cell_type": "code",
   "execution_count": 2,
   "metadata": {
    "scrolled": true
   },
   "outputs": [],
   "source": [
    "import pystan\n",
    "import seaborn as sns\n",
    "import numpy as np\n",
    "import pandas as pd"
   ]
  },
  {
   "cell_type": "code",
   "execution_count": 3,
   "metadata": {},
   "outputs": [],
   "source": [
    "sns.set(rc={'figure.figsize':(14, 10)})"
   ]
  },
  {
   "cell_type": "markdown",
   "metadata": {},
   "source": [
    "## 16.3"
   ]
  },
  {
   "cell_type": "code",
   "execution_count": 4,
   "metadata": {},
   "outputs": [],
   "source": [
    "df = pd.read_csv('data/stan_survival.csv', index_col=0)"
   ]
  },
  {
   "cell_type": "markdown",
   "metadata": {},
   "source": [
    "### 16.3.2"
   ]
  },
  {
   "cell_type": "markdown",
   "metadata": {},
   "source": [
    "$ p(Y) = \\frac{\\sqrt[3]{b}} {\\Gamma\\left(\\frac{4}{3}\\right)}exp(-bY^3)$"
   ]
  },
  {
   "cell_type": "markdown",
   "metadata": {},
   "source": [
    "$ log(p) = log \\left( \\frac{\\sqrt[3]{b}} {\\Gamma\\left(\\frac{4}{3}\\right) }exp(-bY^3)\\right)$\n",
    "\n",
    "$ log(p) = log \\left( \\frac{\\sqrt[3]{b}} {\\Gamma\\left(\\frac{4}{3}\\right)} \\right) -bY^3$"
   ]
  },
  {
   "cell_type": "markdown",
   "metadata": {},
   "source": [
    "### 16.3.3 "
   ]
  },
  {
   "cell_type": "code",
   "execution_count": 7,
   "metadata": {},
   "outputs": [
    {
     "name": "stderr",
     "output_type": "stream",
     "text": [
      "INFO:pystan:COMPILING THE C++ CODE FOR MODEL anon_model_4571326d135b2d69323dc47bcc281c0e NOW.\n"
     ]
    }
   ],
   "source": [
    "ocode = \"\"\"functions{\n",
    "    real my_prob_lpdf(real Y, real b){\n",
    "        return log(cbrt(b)/tgamma(4/3))-b*Y^3;\n",
    "    }\n",
    "}\n",
    "\"\"\"\n",
    "sm = pystan.StanModel(model_code=ocode)"
   ]
  },
  {
   "cell_type": "markdown",
   "metadata": {},
   "source": [
    "### 16.3.4"
   ]
  },
  {
   "cell_type": "code",
   "execution_count": 10,
   "metadata": {
    "scrolled": false
   },
   "outputs": [
    {
     "name": "stderr",
     "output_type": "stream",
     "text": [
      "INFO:pystan:COMPILING THE C++ CODE FOR MODEL anon_model_c6c57b65eca12585f05fe98c1a361537 NOW.\n"
     ]
    }
   ],
   "source": [
    "ocode = \"\"\"\n",
    "functions{\n",
    "    real my_prob_lpdf(real Y, real b){\n",
    "        return log(cbrt(b)/tgamma(4/3))-b*Y^3;\n",
    "    }\n",
    "}\n",
    "\n",
    "data {\n",
    "    int N;\n",
    "    real Y[N];\n",
    "}\n",
    "\n",
    "parameters {\n",
    "    real<lower=0> b;\n",
    "}\n",
    "\n",
    "model {\n",
    "    for(i in 1:N)\n",
    "        Y[i] ~ my_prob(b);\n",
    "}\n",
    "\"\"\"\n",
    "sm = pystan.StanModel(model_code=ocode)"
   ]
  },
  {
   "cell_type": "code",
   "execution_count": 11,
   "metadata": {},
   "outputs": [],
   "source": [
    "data = {'N': df.shape[0], 'Y': df.x}"
   ]
  },
  {
   "cell_type": "code",
   "execution_count": 13,
   "metadata": {},
   "outputs": [
    {
     "data": {
      "text/plain": [
       "Inference for Stan model: anon_model_c6c57b65eca12585f05fe98c1a361537.\n",
       "4 chains, each with iter=1000; warmup=500; thin=1; \n",
       "post-warmup draws per chain=500, total post-warmup draws=2000.\n",
       "\n",
       "       mean se_mean     sd   2.5%    25%    50%    75%  97.5%  n_eff   Rhat\n",
       "b      2.42  5.3e-3   0.14   2.15   2.33   2.42   2.51   2.69    668    1.0\n",
       "lp__ -38.54    0.02   0.74 -40.72 -38.75 -38.23 -38.05  -38.0    920    1.0\n",
       "\n",
       "Samples were drawn using NUTS at Mon Dec 21 01:15:23 2020.\n",
       "For each parameter, n_eff is a crude measure of effective sample size,\n",
       "and Rhat is the potential scale reduction factor on split chains (at \n",
       "convergence, Rhat=1)."
      ]
     },
     "execution_count": 13,
     "metadata": {},
     "output_type": "execute_result"
    }
   ],
   "source": [
    "fit = sm.sampling(data=data, iter=1000, chains=4, seed=1)\n",
    "fit"
   ]
  }
 ],
 "metadata": {
  "kernelspec": {
   "display_name": "bayes",
   "language": "python",
   "name": "bayes"
  },
  "language_info": {
   "codemirror_mode": {
    "name": "ipython",
    "version": 3
   },
   "file_extension": ".py",
   "mimetype": "text/x-python",
   "name": "python",
   "nbconvert_exporter": "python",
   "pygments_lexer": "ipython3",
   "version": "3.8.5"
  }
 },
 "nbformat": 4,
 "nbformat_minor": 4
}
