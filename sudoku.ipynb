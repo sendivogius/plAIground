{
 "cells": [
  {
   "cell_type": "markdown",
   "metadata": {},
   "source": [
    "# Sudoku miniproject\n",
    "\n",
    "Below you will find the most elegant solution of sudoku solver coded by Peter Norvig. It's a good notation and implementation of two (simple) techniques that are enough to solve sudoku in a reasonable time.\n",
    "\n",
    "You can find the original post here: http://norvig.com/sudoku.html\n",
    "\n",
    "The best website about sudoku: http://www.sudokudragon.com/sudokutheory.htm"
   ]
  },
  {
   "cell_type": "markdown",
   "metadata": {},
   "source": [
    "### Sudoku Notation and Preliminary Notions\n",
    "\n",
    "First we have to agree on some notation. A Sudoku puzzle is a grid of 81 squares; the majority of enthusiasts label the columns 1-9, the rows A-I, and call a collection of nine squares (column, row, or box) a unit and the squares that share a unit the peers. A puzzle leaves some squares blank and fills others with digits, and the whole idea is:\n",
    "A puzzle is solved if the squares in each unit are filled with a permutation of the digits 1 to 9.\n",
    "That is, no digit can appear twice in a unit, and every digit must appear once. This implies that each square must have a different value from any of its peers. Here are the names of the squares, a typical puzzle, and the solution to the puzzle:\n",
    "\n",
    "```\n",
    " A1 A2 A3| A4 A5 A6| A7 A8 A9    4 . . |. . . |8 . 5     4 1 7 |3 6 9 |8 2 5 \n",
    " B1 B2 B3| B4 B5 B6| B7 B8 B9    . 3 . |. . . |. . .     6 3 2 |1 5 8 |9 4 7\n",
    " C1 C2 C3| C4 C5 C6| C7 C8 C9    . . . |7 . . |. . .     9 5 8 |7 2 4 |3 1 6 \n",
    "---------+---------+---------    ------+------+------    ------+------+------\n",
    " D1 D2 D3| D4 D5 D6| D7 D8 D9    . 2 . |. . . |. 6 .     8 2 5 |4 3 7 |1 6 9 \n",
    " E1 E2 E3| E4 E5 E6| E7 E8 E9    . . . |. 8 . |4 . .     7 9 1 |5 8 6 |4 3 2 \n",
    " F1 F2 F3| F4 F5 F6| F7 F8 F9    . . . |. 1 . |. . .     3 4 6 |9 1 2 |7 5 8 \n",
    "---------+---------+---------    ------+------+------    ------+------+------\n",
    " G1 G2 G3| G4 G5 G6| G7 G8 G9    . . . |6 . 3 |. 7 .     2 8 9 |6 4 3 |5 7 1 \n",
    " H1 H2 H3| H4 H5 H6| H7 H8 H9    5 . . |2 . . |. . .     5 7 3 |2 9 1 |6 8 4 \n",
    " I1 I2 I3| I4 I5 I6| I7 I8 I9    1 . 4 |. . . |. . .     1 6 4 |8 7 5 |2 9 3 \n",
    "```\n",
    "\n",
    "Every square has exactly 3 units and 20 peers. For example, here are the units and peers for the square C2:\n",
    "\n",
    "```\n",
    "    A2   |         |                    |         |            A1 A2 A3|         |         \n",
    "    B2   |         |                    |         |            B1 B2 B3|         |         \n",
    "    C2   |         |            C1 C2 C3| C4 C5 C6| C7 C8 C9   C1 C2 C3|         |         \n",
    "---------+---------+---------  ---------+---------+---------  ---------+---------+---------\n",
    "    D2   |         |                    |         |                    |         |         \n",
    "    E2   |         |                    |         |                    |         |         \n",
    "    F2   |         |                    |         |                    |         |         \n",
    "---------+---------+---------  ---------+---------+---------  ---------+---------+---------\n",
    "    G2   |         |                    |         |                    |         |         \n",
    "    H2   |         |                    |         |                    |         |         \n",
    "    I2   |         |                    |         |                    |         |    \n",
    "```"
   ]
  },
  {
   "cell_type": "code",
   "execution_count": 1,
   "metadata": {
    "scrolled": false
   },
   "outputs": [
    {
     "name": "stdout",
     "output_type": "stream",
     "text": [
      "[['A1', 'B1', 'C1', 'D1', 'E1', 'F1', 'G1', 'H1', 'I1'], ['A1', 'A2', 'A3', 'A4', 'A5', 'A6', 'A7', 'A8', 'A9'], ['A1', 'A2', 'A3', 'B1', 'B2', 'B3', 'C1', 'C2', 'C3']]\n",
      "{'F1', 'G1', 'C1', 'C2', 'A6', 'E1', 'I1', 'A9', 'A7', 'A3', 'A8', 'B1', 'C3', 'D1', 'A4', 'A2', 'B3', 'B2', 'A5', 'H1'}\n"
     ]
    }
   ],
   "source": [
    "#notation\n",
    "def cross(A, B):\n",
    "    \"Cross product of elements in A and elements in B.\"\n",
    "    return [a+b for a in A for b in B]\n",
    "\n",
    "digits   = '123456789'\n",
    "rows     = 'ABCDEFGHI'\n",
    "cols     = digits\n",
    "squares  = cross(rows, cols)\n",
    "\n",
    "unitlist = ([cross(rows, c) for c in cols] +\n",
    "            [cross(r, cols) for r in rows] +\n",
    "            [cross(rs, cs) for rs in ('ABC','DEF','GHI') for cs in ('123','456','789')])\n",
    "units = dict((s, [u for u in unitlist if s in u]) \n",
    "             for s in squares)\n",
    "peers = dict((s, set(sum(units[s],[]))-set([s]))\n",
    "             for s in squares)\n",
    "\n",
    "print(units['A1'])\n",
    "print(peers['A1'])"
   ]
  },
  {
   "cell_type": "markdown",
   "metadata": {},
   "source": [
    "### Sudoku grid\n",
    "Now that we have squares, units, and peers, the next step is to define the Sudoku playing grid. Actually we need two representations: First, a textual format used to specify the initial state of a puzzle; we will reserve the name grid for this. Second, an internal representation of any state of a puzzle, partially solved or complete; this we will call a values collection because it will give all the remaining possible values for each square. For the textual format (grid) we'll allow a string of characters with 1-9 indicating a digit, and a 0 or period specifying an empty square. All other characters are ignored (including spaces, newlines, dashes, and bars). So each of the following three grid strings represent the same puzzle:\n",
    "\n"
   ]
  },
  {
   "cell_type": "markdown",
   "metadata": {},
   "source": [
    "#### Sample sudoku grids"
   ]
  },
  {
   "cell_type": "code",
   "execution_count": 2,
   "metadata": {
    "collapsed": true
   },
   "outputs": [],
   "source": [
    "grid_solvable = '003020600900305001001806400008102900700000008006708200002609500800203009005010300'\n",
    "grid_notsolvable = '4.....8.5.3..........7......2.....6.....8.4......1.......6.3.7.5..2.....1.4......'\n",
    "grid_naked = '509020010400056000800903005087002500654000082001568497108205000700680003040070800'"
   ]
  },
  {
   "cell_type": "code",
   "execution_count": 3,
   "metadata": {},
   "outputs": [
    {
     "name": "stdout",
     "output_type": "stream",
     "text": [
      "Solvable :\n",
      ". . 3 |. 2 . |6 . . \n",
      "9 . . |3 . 5 |. . 1 \n",
      ". . 1 |8 . 6 |4 . . \n",
      "------+------+------\n",
      ". . 8 |1 . 2 |9 . . \n",
      "7 . . |. . . |. . 8 \n",
      ". . 6 |7 . 8 |2 . . \n",
      "------+------+------\n",
      ". . 2 |6 . 9 |5 . . \n",
      "8 . . |2 . 3 |. . 9 \n",
      ". . 5 |. 1 . |3 . . \n",
      "\n",
      "Notsolvable (by assign/eliminate) :\n",
      "4 . . |. . . |8 . 5 \n",
      ". 3 . |. . . |. . . \n",
      ". . . |7 . . |. . . \n",
      "------+------+------\n",
      ". 2 . |. . . |. 6 . \n",
      ". . . |. 8 . |4 . . \n",
      ". . . |. 1 . |. . . \n",
      "------+------+------\n",
      ". . . |6 . 3 |. 7 . \n",
      "5 . . |2 . . |. . . \n",
      "1 . 4 |. . . |. . . \n",
      "\n",
      "Naked twin :\n",
      "5 . 9 |. 2 . |. 1 . \n",
      "4 . . |. 5 6 |. . . \n",
      "8 . . |9 . 3 |. . 5 \n",
      "------+------+------\n",
      ". 8 7 |. . 2 |5 . . \n",
      "6 5 4 |. . . |. 8 2 \n",
      ". . 1 |5 6 8 |4 9 7 \n",
      "------+------+------\n",
      "1 . 8 |2 . 5 |. . . \n",
      "7 . . |6 8 . |. . 3 \n",
      ". 4 . |. 7 . |8 . . \n",
      "\n"
     ]
    }
   ],
   "source": [
    "# parser\n",
    "def grid_values(grid):\n",
    "    \"Convert grid into a dict of {square: char} with '0' or '.' for empties.\"\n",
    "    grid = grid.replace('0', '.')\n",
    "    chars = [c for c in grid if c in digits or c in '.']\n",
    "    assert len(chars) == 81\n",
    "    return dict(zip(squares, chars))\n",
    "\n",
    "def display(values, title = ''):\n",
    "    \"Display these values as a 2-D grid.\"\n",
    "    if title:\n",
    "        print(title,':')\n",
    "    if not values:\n",
    "        print('Failed to solve, contradiction occurred')\n",
    "        return\n",
    "    width = 1+max(len(values[s]) for s in squares)\n",
    "    line = '+'.join(['-'*(width*3)]*3)\n",
    "    for r in rows:\n",
    "        print(''.join(values[r+c].center(width)+('|' if c in '36' else '') for c in cols))\n",
    "        if r in 'CF': print(line)\n",
    "    print()\n",
    "\n",
    "# sample sudoku\n",
    "display(grid_values(grid_solvable), 'Solvable')\n",
    "display(grid_values(grid_notsolvable), 'Notsolvable (by assign/eliminate)')\n",
    "display(grid_values(grid_naked), 'Naked twin')"
   ]
  },
  {
   "cell_type": "code",
   "execution_count": 4,
   "metadata": {
    "collapsed": true
   },
   "outputs": [],
   "source": [
    "def is_solved(values):\n",
    "    return all(len(d) == 1 for d in values.values())\n",
    "\n",
    "def is_failed(values):\n",
    "    empties =  any(len(d) == 0 for d in values.values()) \n",
    "    if empties:\n",
    "        return True\n",
    "#     display(values, 'Check')\n",
    "    for unit in unitlist:\n",
    "        vals = [values[s] for s in unit]\n",
    "        if all(len(d) == 1 for d in vals) and len(vals) != len(set(vals)):\n",
    "#             print(unit, vals)\n",
    "            return True\n",
    "    return False\n",
    "    "
   ]
  },
  {
   "cell_type": "markdown",
   "metadata": {},
   "source": [
    "### Parser\n",
    "Now for values. One might think that a 9 x 9 array would be the obvious data structure. But squares have names like 'A1', not (0,0). Therefore, values will be a dict with squares as keys. The value of each key will be the possible digits for that square: a single digit if it was given as part of the puzzle definition or if we have figured out what it must be, and a collection of several digits if we are still uncertain. This collection of digits could be represented by a Python set or list, but I chose instead to use a string of digits (we'll see why later). So a grid where A1 is 7 and C7 is empty would be represented as {'A1': '7', 'C7': '123456789', ...}."
   ]
  },
  {
   "cell_type": "code",
   "execution_count": 5,
   "metadata": {},
   "outputs": [],
   "source": [
    "def solve_orginal(grid):\n",
    "    \"\"\"Convert grid to a dict of possible values, {square: digits}, or\n",
    "    return False if a contradiction is detected.\"\"\"\n",
    "    ## To start, every square can be any digit; then assign values from the grid.\n",
    "    values = dict((s, digits) for s in squares)\n",
    "    for s,d in grid_values(grid).items():\n",
    "        if d in digits and not orginal_assign(values, s, d):\n",
    "            return False ## (Fail if we can't assign d to square s.)\n",
    "    return values"
   ]
  },
  {
   "cell_type": "markdown",
   "metadata": {},
   "source": [
    "# Constraint Propagation - original code\n",
    "The function parse_grid calls assign(values, s, d). We could implement this as values[s] = d, but we can do more than just that. Those with experience solving Sudoku puzzles know that there are two important strategies that we can use to make progress towards filling in all the squares:\n",
    "\n",
    "(1) If a square has only one possible value, then eliminate that value from the square's peers. \n",
    "\n",
    "(2) If a unit has only one possible place for a value, then put the value there.\n",
    "\n",
    "As an example of strategy (1) if we assign 7 to A1, yielding {'A1': '7', 'A2':'123456789', ...}, we see that A1 has only one value, and thus the 7 can be removed from its peer A2 (and all other peers), giving us {'A1': '7', 'A2': '12345689', ...}. As an example of strategy (2), if it turns out that none of A3 through A9 has a 3 as a possible value, then the 3 must belong in A2, and we can update to {'A1': '7', 'A2':'3', ...}. These updates to A2 may in turn cause further updates to its peers, and the peers of those peers, and so on. This process is called constraint propagation.\n",
    "\n",
    "The function assign(values, s, d) will return the updated values (including the updates from constraint propagation), but if there is a contradiction--if the assignment cannot be made consistently--then assign returns False. For example, if a grid starts with the digits '77...' then when we try to assign the 7 to A2, assign would notice that 7 is not a possibility for A2, because it was eliminated by the peer, A1.\n",
    "\n",
    "It turns out that the fundamental operation is not assigning a value, but rather eliminating one of the possible values for a square, which we implement with eliminate(values, s, d). Once we have eliminate, then assign(values, s, d) can be defined as \"eliminate all the values from s except d\"."
   ]
  },
  {
   "cell_type": "code",
   "execution_count": 6,
   "metadata": {},
   "outputs": [],
   "source": [
    "def orginal_assign(values, s, d):\n",
    "    \"\"\"Eliminate all the other values (except d) from values[s] and propagate.\n",
    "    Return values, except return False if a contradiction is detected.\"\"\"\n",
    "    other_values = values[s].replace(d, '')\n",
    "    if all(orginal_eliminate(values, s, d2) for d2 in other_values):\n",
    "        return values\n",
    "    else:\n",
    "        return False\n",
    "\n",
    "def orginal_eliminate(values, s, d):\n",
    "    \"\"\"Eliminate d from values[s]; propagate when values or places <= 2.\n",
    "    Return values, except return False if a contradiction is detected.\"\"\"\n",
    "    if d not in values[s]:\n",
    "        return values ## Already eliminated\n",
    "    values[s] = values[s].replace(d,'')\n",
    "    ## (1) If a square s is reduced to one value d2, then eliminate d2 from the peers.\n",
    "    if len(values[s]) == 0:\n",
    "        return False ## Contradiction: removed last value\n",
    "    elif len(values[s]) == 1:\n",
    "        d2 = values[s]\n",
    "        if not all(orginal_eliminate(values, s2, d2) for s2 in peers[s]):\n",
    "            return False\n",
    "    ## (2) If a unit u is reduced to only one place for a value d, then put it there.\n",
    "    for u in units[s]:\n",
    "        dplaces = [s for s in u if d in values[s]]\n",
    "        if len(dplaces) == 0:\n",
    "            return False ## Contradiction: no place for this val\n",
    "        elif len(dplaces) == 1:\n",
    "            # d can only be in one place in unit; assign it there\n",
    "            if not orginal_assign(values, dplaces[0], d):\n",
    "                return False\n",
    "    return values"
   ]
  },
  {
   "cell_type": "markdown",
   "metadata": {},
   "source": [
    "### Test run on orginal code"
   ]
  },
  {
   "cell_type": "code",
   "execution_count": 7,
   "metadata": {},
   "outputs": [
    {
     "name": "stdout",
     "output_type": "stream",
     "text": [
      "Solvable, orginal :\n",
      "4 8 3 |9 2 1 |6 5 7 \n",
      "9 6 7 |3 4 5 |8 2 1 \n",
      "2 5 1 |8 7 6 |4 9 3 \n",
      "------+------+------\n",
      "5 4 8 |1 3 2 |9 7 6 \n",
      "7 2 9 |5 6 4 |1 3 8 \n",
      "1 3 6 |7 9 8 |2 4 5 \n",
      "------+------+------\n",
      "3 7 2 |6 8 9 |5 1 4 \n",
      "8 1 4 |2 5 3 |7 6 9 \n",
      "6 9 5 |4 1 7 |3 8 2 \n",
      "\n",
      "Unsolvable, orginal :\n",
      "   4      1679   12679  |  139     2369    269   |   8      1239     5    \n",
      " 26789     3    1256789 | 14589   24569   245689 | 12679    1249   124679 \n",
      "  2689   15689   125689 |   7     234569  245689 | 12369   12349   123469 \n",
      "------------------------+------------------------+------------------------\n",
      "  3789     2     15789  |  3459   34579    4579  | 13579     6     13789  \n",
      "  3679   15679   15679  |  359      8     25679  |   4     12359   12379  \n",
      " 36789     4     56789  |  359      1     25679  | 23579   23589   23789  \n",
      "------------------------+------------------------+------------------------\n",
      "  289      89     289   |   6      459      3    |  1259     7     12489  \n",
      "   5      6789     3    |   2      479      1    |   69     489     4689  \n",
      "   1      6789     4    |  589     579     5789  | 23569   23589   23689  \n",
      "\n",
      "Naked twin, orginal :\n",
      "  5   367   9  | 478   2    47 | 367   1   468 \n",
      "  4   1237  23 | 178   5    6  | 2379 237   89 \n",
      "  8   1267  26 |  9    14   3  | 267  2467  5  \n",
      "---------------+---------------+---------------\n",
      "  9    8    7  | 134  134   2  |  5    36   16 \n",
      "  6    5    4  | 137  139  179 |  13   8    2  \n",
      "  23   23   1  |  5    6    8  |  4    9    7  \n",
      "---------------+---------------+---------------\n",
      "  1   369   8  |  2   349   5  | 679  467  469 \n",
      "  7    29   25 |  6    8   149 | 129  245   3  \n",
      "  23   4   2356|  13   7    19 |  8   256  169 \n",
      "\n"
     ]
    }
   ],
   "source": [
    "display(solve_orginal(grid_solvable), 'Solvable, orginal')\n",
    "display(solve_orginal(grid_notsolvable), 'Unsolvable, orginal')\n",
    "display(solve_orginal(grid_naked), 'Naked twin, orginal')"
   ]
  },
  {
   "cell_type": "markdown",
   "metadata": {},
   "source": [
    "# Constraint Propagation - code refactoring\n",
    "\n",
    "Try to decompose* eliminate function into smaller one.\n",
    "* Decomposition is a process by which you can break down one complex function into multiple smaller functions. By doing this, you can solve for functions in shorter, easier-to-understand pieces."
   ]
  },
  {
   "cell_type": "code",
   "execution_count": 8,
   "metadata": {},
   "outputs": [],
   "source": [
    "def eliminate(values):\n",
    "    \"\"\"\n",
    "    Iterate through all squares and every time \n",
    "       if there is a square with one value, \n",
    "       then eliminate this value from the peers\n",
    "\n",
    "    input: sudoku in dictionary form\n",
    "    output: resulting sudoku in dictionary form\n",
    "    \"\"\"\n",
    "    for s, d in values.items():\n",
    "        if len(d) != 1:\n",
    "            continue\n",
    "        for s_peer in peers[s]:\n",
    "            values[s_peer] = values[s_peer].replace(d,'')\n",
    "            \n",
    "    return values\n",
    "\n",
    "\n",
    "def only_choice(values):\n",
    "    \"\"\"\n",
    "    Iterate through all squares and every time\n",
    "        if there is a square with a value that only fits in one square, \n",
    "        assign the value to this square\n",
    "\n",
    "    input: sudoku in dictionary form\n",
    "    output: resulting sudoku in dictionary form\n",
    "    \"\"\"\n",
    "    for s, d in values.items():\n",
    "        for u in units[s]:\n",
    "            other_s_in_units = set(u)-{s}\n",
    "            values_in_other = {d2 for s2 in other_s_in_units for d2 in values[s2]}\n",
    "            possible_in_s = list(set(d)-values_in_other)\n",
    "            if len(possible_in_s) == 1 and possible_in_s[0] != d :\n",
    "                values[s] = possible_in_s[0]\n",
    "\n",
    "    return values\n",
    "\n",
    "\n",
    "def reduce_puzzle(values, use_naked_twins):\n",
    "    \"\"\"\n",
    "    Solve sudoku using eliminate() and only_choice()\n",
    "    \n",
    "    input: sudoku in dictionary form\n",
    "    output: resulting sudoku in dictionary form\n",
    "    \"\"\"\n",
    "    changed = True\n",
    "    while changed:\n",
    "        new_values = eliminate(values.copy())\n",
    "        new_values = only_choice(new_values)\n",
    "        if use_naked_twins:\n",
    "            new_values = naked_twins(new_values)\n",
    "        changed = new_values != values\n",
    "        values = new_values\n",
    "#         if is_failed(values):\n",
    "#             # found contradiction\n",
    "#             return False\n",
    "    return values\n",
    "\n",
    "def solve_refactored(grid):\n",
    "    values = dict((s, digits) for s in squares)\n",
    "    for s,d in grid_values(grid).items():\n",
    "        if d in digits:\n",
    "            values[s] = d\n",
    "    return reduce_puzzle(values, False)       "
   ]
  },
  {
   "cell_type": "markdown",
   "metadata": {},
   "source": [
    "### Test run on refactored code"
   ]
  },
  {
   "cell_type": "code",
   "execution_count": 9,
   "metadata": {
    "scrolled": true
   },
   "outputs": [
    {
     "name": "stdout",
     "output_type": "stream",
     "text": [
      "Solvable, refactored :\n",
      "4 8 3 |9 2 1 |6 5 7 \n",
      "9 6 7 |3 4 5 |8 2 1 \n",
      "2 5 1 |8 7 6 |4 9 3 \n",
      "------+------+------\n",
      "5 4 8 |1 3 2 |9 7 6 \n",
      "7 2 9 |5 6 4 |1 3 8 \n",
      "1 3 6 |7 9 8 |2 4 5 \n",
      "------+------+------\n",
      "3 7 2 |6 8 9 |5 1 4 \n",
      "8 1 4 |2 5 3 |7 6 9 \n",
      "6 9 5 |4 1 7 |3 8 2 \n",
      "\n",
      "Unsolvable, refactored :\n",
      "   4      1679   12679  |  139     2369    269   |   8      1239     5    \n",
      " 26789     3    1256789 | 14589   24569   245689 | 12679    1249   124679 \n",
      "  2689   15689   125689 |   7     234569  245689 | 12369   12349   123469 \n",
      "------------------------+------------------------+------------------------\n",
      "  3789     2     15789  |  3459   34579    4579  | 13579     6     13789  \n",
      "  3679   15679   15679  |  359      8     25679  |   4     12359   12379  \n",
      " 36789     4     56789  |  359      1     25679  | 23579   23589   23789  \n",
      "------------------------+------------------------+------------------------\n",
      "  289      89     289   |   6      459      3    |  1259     7     12489  \n",
      "   5      6789     3    |   2      479      1    |   69     489     4689  \n",
      "   1      6789     4    |  589     579     5789  | 23569   23589   23689  \n",
      "\n",
      "Naked twin, refactored :\n",
      "  5   367   9  | 478   2    47 | 367   1   468 \n",
      "  4   1237  23 | 178   5    6  | 2379 237   89 \n",
      "  8   1267  26 |  9    14   3  | 267  2467  5  \n",
      "---------------+---------------+---------------\n",
      "  9    8    7  | 134  134   2  |  5    36   16 \n",
      "  6    5    4  | 137  139  179 |  13   8    2  \n",
      "  23   23   1  |  5    6    8  |  4    9    7  \n",
      "---------------+---------------+---------------\n",
      "  1   369   8  |  2   349   5  | 679  467  469 \n",
      "  7    29   25 |  6    8   149 | 129  245   3  \n",
      "  23   4   2356|  13   7    19 |  8   256  169 \n",
      "\n"
     ]
    }
   ],
   "source": [
    "display(solve_refactored(grid_solvable), 'Solvable, refactored')\n",
    "display(solve_refactored(grid_notsolvable), 'Unsolvable, refactored')\n",
    "display(solve_refactored(grid_naked), 'Naked twin, refactored')"
   ]
  },
  {
   "cell_type": "markdown",
   "metadata": {},
   "source": [
    "# Naked twins\n",
    "http://www.sudokudragon.com/tutorialnakedtwins.htm\n"
   ]
  },
  {
   "cell_type": "code",
   "execution_count": 10,
   "metadata": {},
   "outputs": [],
   "source": [
    "def naked_twins(values):\n",
    "    \"\"\"\n",
    "    Eliminate values using the naked twins strategy\n",
    "    \n",
    "    input: A sudoku in dictionary form.\n",
    "    output: The resulting sudoku in dictionary form.\n",
    "    \"\"\"\n",
    "    twin_values_squares = { s: d for s, d in values.items() if len(d) == 2}\n",
    "    twin_combinations = ( (x,y) for x in twin_values_squares for y in twin_values_squares \n",
    "                         if twin_values_squares[x] == twin_values_squares[y] and x < y)\n",
    "    \n",
    "    # check if elements in twin_combinations are in the same unit\n",
    "    for s1, s2 in twin_combinations:\n",
    "        # note, may be more then 1 matching unit, eg A1+A2 are in two\n",
    "        matching_units = [unit for unit in unitlist if s1 in unit and s2 in unit]\n",
    "        for matching_unit in matching_units:\n",
    "            twins = twin_values_squares[s1]\n",
    "#             print('Found twins:', s1, s2, twins)\n",
    "            #remove other values then 'twins' in other fields\n",
    "            for s in [a for a in matching_unit if a not in {s1, s2}]:\n",
    "                values[s] = values[s].replace(twins[0], '')\n",
    "                values[s] = values[s].replace(twins[1], '')\n",
    "\n",
    "    return values"
   ]
  },
  {
   "cell_type": "code",
   "execution_count": 11,
   "metadata": {
    "collapsed": true
   },
   "outputs": [],
   "source": [
    "def solve_refactored_naked(grid):\n",
    "    values = dict((s, digits) for s in squares)\n",
    "    for s,d in grid_values(grid).items():\n",
    "        if d in digits:\n",
    "            values[s] = d\n",
    "    return reduce_puzzle(values, True) "
   ]
  },
  {
   "cell_type": "markdown",
   "metadata": {},
   "source": [
    "### Test run on refactored code with naked twins"
   ]
  },
  {
   "cell_type": "code",
   "execution_count": 12,
   "metadata": {
    "scrolled": false
   },
   "outputs": [
    {
     "name": "stdout",
     "output_type": "stream",
     "text": [
      "Solvable, refactored+naked_twins :\n",
      "4 8 3 |9 2 1 |6 5 7 \n",
      "9 6 7 |3 4 5 |8 2 1 \n",
      "2 5 1 |8 7 6 |4 9 3 \n",
      "------+------+------\n",
      "5 4 8 |1 3 2 |9 7 6 \n",
      "7 2 9 |5 6 4 |1 3 8 \n",
      "1 3 6 |7 9 8 |2 4 5 \n",
      "------+------+------\n",
      "3 7 2 |6 8 9 |5 1 4 \n",
      "8 1 4 |2 5 3 |7 6 9 \n",
      "6 9 5 |4 1 7 |3 8 2 \n",
      "\n",
      "Unsolvable, refactored+naked_twins :\n",
      "   4      1679   12679  |  139     2369    269   |   8      1239     5    \n",
      " 26789     3    1256789 | 14589   24569   245689 | 12679    1249   124679 \n",
      "  2689   15689   125689 |   7     234569  245689 | 12369   12349   123469 \n",
      "------------------------+------------------------+------------------------\n",
      "  3789     2     15789  |  3459   34579    4579  | 13579     6     13789  \n",
      "  3679   15679   15679  |  359      8     25679  |   4     12359   12379  \n",
      " 36789     4     56789  |  359      1     25679  | 23579   23589   23789  \n",
      "------------------------+------------------------+------------------------\n",
      "  289      89     289   |   6      459      3    |  1259     7     12489  \n",
      "   5      6789     3    |   2      479      1    |   69     489     4689  \n",
      "   1      6789     4    |  589     579     5789  | 23569   23589   23689  \n",
      "\n",
      "Naked twin, refactored+naked_twins :\n",
      "  5   367   9  | 478   2    47 | 367   1   468 \n",
      "  4   1237  23 | 178   5    6  | 2379 237   89 \n",
      "  8   1267  26 |  9    14   3  | 267  2467  5  \n",
      "---------------+---------------+---------------\n",
      "  9    8    7  | 134  134   2  |  5    36   16 \n",
      "  6    5    4  | 137  139  179 |  13   8    2  \n",
      "  23   23   1  |  5    6    8  |  4    9    7  \n",
      "---------------+---------------+---------------\n",
      "  1   369   8  |  2   349   5  | 679  467  469 \n",
      "  7    29   25 |  6    8   149 | 129  245   3  \n",
      "  23   4   2356|  13   7    19 |  8   256  169 \n",
      "\n"
     ]
    }
   ],
   "source": [
    "display(solve_refactored_naked(grid_solvable), 'Solvable, refactored+naked_twins')\n",
    "display(solve_refactored_naked(grid_notsolvable), 'Unsolvable, refactored+naked_twins')\n",
    "display(solve_refactored_naked(grid_naked), 'Naked twin, refactored+naked_twins')"
   ]
  },
  {
   "cell_type": "code",
   "execution_count": 13,
   "metadata": {},
   "outputs": [],
   "source": [
    "def reduce_graph(values):\n",
    "    values = reduce_puzzle(values, True) \n",
    "    \n",
    "    # base cases first\n",
    "    if not values:\n",
    "        return False\n",
    "    if is_solved(values):\n",
    "        return values    \n",
    "    \n",
    "    # get all unfilled squares ordered by possible moves\n",
    "    possible_choices = sorted([s for s, d in values.items() if len(d) > 1], key=lambda x: len(values[x]))\n",
    "    for choice_square in possible_choices:\n",
    "        for choice_val in values[choice_square]:\n",
    "#             print('Set', choice_square, 'to', choice_val)\n",
    "            new_values = values.copy()\n",
    "            new_values[choice_square] = choice_val\n",
    "            new_values = reduce_graph(new_values)\n",
    "            if new_values:\n",
    "                return new_values\n",
    "#             print('Revert', choice_square, 'to', choice_val)\n",
    "    return False\n",
    "\n",
    "def solve_graph(grid):\n",
    "    values = dict((s, digits) for s in squares)\n",
    "    for s,d in grid_values(grid).items():\n",
    "        if d in digits:\n",
    "            values[s] = d\n",
    "    return reduce_graph(values)"
   ]
  },
  {
   "cell_type": "markdown",
   "metadata": {},
   "source": [
    "### Test run on graph searching"
   ]
  },
  {
   "cell_type": "code",
   "execution_count": 14,
   "metadata": {},
   "outputs": [
    {
     "name": "stdout",
     "output_type": "stream",
     "text": [
      "Solvable, graph search :\n",
      "4 8 3 |9 2 1 |6 5 7 \n",
      "9 6 7 |3 4 5 |8 2 1 \n",
      "2 5 1 |8 7 6 |4 9 3 \n",
      "------+------+------\n",
      "5 4 8 |1 3 2 |9 7 6 \n",
      "7 2 9 |5 6 4 |1 3 8 \n",
      "1 3 6 |7 9 8 |2 4 5 \n",
      "------+------+------\n",
      "3 7 2 |6 8 9 |5 1 4 \n",
      "8 1 4 |2 5 3 |7 6 9 \n",
      "6 9 5 |4 1 7 |3 8 2 \n",
      "\n",
      "Unsolvable, graph search :\n",
      "4 1 7 |3 6 9 |8 2 5 \n",
      "6 3 2 |1 5 8 |9 4 7 \n",
      "9 5 8 |7 2 4 |3 1 6 \n",
      "------+------+------\n",
      "8 2 5 |4 3 7 |1 6 9 \n",
      "7 9 1 |5 8 6 |4 3 2 \n",
      "3 4 6 |9 1 2 |7 5 8 \n",
      "------+------+------\n",
      "2 8 9 |6 4 3 |5 7 1 \n",
      "5 7 3 |2 9 1 |6 8 4 \n",
      "1 6 4 |8 7 5 |2 9 3 \n",
      "\n",
      "Naked twin, graph search :\n",
      "5 3 9 |4 2 7 |6 1 8 \n",
      "4 1 2 |8 5 6 |7 3 9 \n",
      "8 7 6 |9 1 3 |2 4 5 \n",
      "------+------+------\n",
      "9 8 7 |3 4 2 |5 6 1 \n",
      "6 5 4 |7 9 1 |3 8 2 \n",
      "3 2 1 |5 6 8 |4 9 7 \n",
      "------+------+------\n",
      "1 6 8 |2 3 5 |9 7 4 \n",
      "7 9 5 |6 8 4 |1 2 3 \n",
      "2 4 3 |1 7 9 |8 5 6 \n",
      "\n"
     ]
    }
   ],
   "source": [
    "display(solve_graph(grid_solvable), 'Solvable, graph search')\n",
    "display(solve_graph(grid_notsolvable), 'Unsolvable, graph search')\n",
    "display(solve_graph(grid_naked), 'Naked twin, graph search')"
   ]
  },
  {
   "cell_type": "code",
   "execution_count": null,
   "metadata": {
    "collapsed": true
   },
   "outputs": [],
   "source": []
  }
 ],
 "metadata": {
  "kernelspec": {
   "display_name": "Python 3",
   "language": "python",
   "name": "python3"
  },
  "language_info": {
   "codemirror_mode": {
    "name": "ipython",
    "version": 3
   },
   "file_extension": ".py",
   "mimetype": "text/x-python",
   "name": "python",
   "nbconvert_exporter": "python",
   "pygments_lexer": "ipython3",
   "version": "3.6.3"
  }
 },
 "nbformat": 4,
 "nbformat_minor": 1
}
